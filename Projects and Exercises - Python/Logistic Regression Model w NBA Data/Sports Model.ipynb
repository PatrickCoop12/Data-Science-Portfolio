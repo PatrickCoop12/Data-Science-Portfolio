{
 "cells": [
  {
   "cell_type": "code",
   "execution_count": 1,
   "metadata": {
    "collapsed": true,
    "jupyter": {
     "outputs_hidden": true
    }
   },
   "outputs": [],
   "source": [
    "import pandas as pd\n",
    "import numpy as np\n",
    "from matplotlib import pyplot as plt\n",
    "from sklearn.linear_model import LogisticRegression\n",
    "from sklearn.preprocessing import StandardScaler\n",
    "from sklearn.model_selection import train_test_split"
   ]
  },
  {
   "cell_type": "markdown",
   "metadata": {},
   "source": [
    "### Loading NBA boxscore data into data frame"
   ]
  },
  {
   "cell_type": "code",
   "execution_count": 11,
   "metadata": {
    "collapsed": false,
    "jupyter": {
     "outputs_hidden": false
    }
   },
   "outputs": [],
   "source": [
    "df = pd.read_csv('sports_data.csv')"
   ]
  },
  {
   "cell_type": "code",
   "execution_count": 12,
   "metadata": {
    "collapsed": false,
    "jupyter": {
     "outputs_hidden": false
    }
   },
   "outputs": [
    {
     "data": {
      "text/html": [
       "<div>\n",
       "<style scoped>\n",
       "    .dataframe tbody tr th:only-of-type {\n",
       "        vertical-align: middle;\n",
       "    }\n",
       "\n",
       "    .dataframe tbody tr th {\n",
       "        vertical-align: top;\n",
       "    }\n",
       "\n",
       "    .dataframe thead th {\n",
       "        text-align: right;\n",
       "    }\n",
       "</style>\n",
       "<table border=\"1\" class=\"dataframe\">\n",
       "  <thead>\n",
       "    <tr style=\"text-align: right;\">\n",
       "      <th></th>\n",
       "      <th>G</th>\n",
       "      <th>Date</th>\n",
       "      <th>Home_Away</th>\n",
       "      <th>Team</th>\n",
       "      <th>Opp</th>\n",
       "      <th>Win_Loss</th>\n",
       "      <th>Tm_score</th>\n",
       "      <th>Opp_score</th>\n",
       "      <th>FG_for</th>\n",
       "      <th>FGA_for</th>\n",
       "      <th>...</th>\n",
       "      <th>FT_agst</th>\n",
       "      <th>FTA_agst</th>\n",
       "      <th>FTp_agst</th>\n",
       "      <th>ORB_agst</th>\n",
       "      <th>TRB_agst</th>\n",
       "      <th>AST_agst</th>\n",
       "      <th>STL_agst</th>\n",
       "      <th>BLK_agst</th>\n",
       "      <th>TOV_agst</th>\n",
       "      <th>PF_agst</th>\n",
       "    </tr>\n",
       "  </thead>\n",
       "  <tbody>\n",
       "    <tr>\n",
       "      <th>0</th>\n",
       "      <td>1</td>\n",
       "      <td>10/18/22</td>\n",
       "      <td>Home</td>\n",
       "      <td>GSW</td>\n",
       "      <td>LAL</td>\n",
       "      <td>W</td>\n",
       "      <td>123</td>\n",
       "      <td>109</td>\n",
       "      <td>45</td>\n",
       "      <td>99</td>\n",
       "      <td>...</td>\n",
       "      <td>19</td>\n",
       "      <td>25</td>\n",
       "      <td>0.760</td>\n",
       "      <td>9</td>\n",
       "      <td>48</td>\n",
       "      <td>23</td>\n",
       "      <td>12</td>\n",
       "      <td>4</td>\n",
       "      <td>21</td>\n",
       "      <td>18</td>\n",
       "    </tr>\n",
       "    <tr>\n",
       "      <th>1</th>\n",
       "      <td>2</td>\n",
       "      <td>10/21/22</td>\n",
       "      <td>Home</td>\n",
       "      <td>GSW</td>\n",
       "      <td>DEN</td>\n",
       "      <td>L</td>\n",
       "      <td>123</td>\n",
       "      <td>128</td>\n",
       "      <td>42</td>\n",
       "      <td>88</td>\n",
       "      <td>...</td>\n",
       "      <td>21</td>\n",
       "      <td>25</td>\n",
       "      <td>0.840</td>\n",
       "      <td>12</td>\n",
       "      <td>41</td>\n",
       "      <td>30</td>\n",
       "      <td>10</td>\n",
       "      <td>2</td>\n",
       "      <td>20</td>\n",
       "      <td>22</td>\n",
       "    </tr>\n",
       "    <tr>\n",
       "      <th>2</th>\n",
       "      <td>3</td>\n",
       "      <td>10/23/22</td>\n",
       "      <td>Home</td>\n",
       "      <td>GSW</td>\n",
       "      <td>SAC</td>\n",
       "      <td>W</td>\n",
       "      <td>130</td>\n",
       "      <td>125</td>\n",
       "      <td>45</td>\n",
       "      <td>87</td>\n",
       "      <td>...</td>\n",
       "      <td>20</td>\n",
       "      <td>25</td>\n",
       "      <td>0.800</td>\n",
       "      <td>13</td>\n",
       "      <td>51</td>\n",
       "      <td>31</td>\n",
       "      <td>10</td>\n",
       "      <td>2</td>\n",
       "      <td>16</td>\n",
       "      <td>29</td>\n",
       "    </tr>\n",
       "    <tr>\n",
       "      <th>3</th>\n",
       "      <td>4</td>\n",
       "      <td>10/25/22</td>\n",
       "      <td>Away</td>\n",
       "      <td>GSW</td>\n",
       "      <td>PHO</td>\n",
       "      <td>L</td>\n",
       "      <td>105</td>\n",
       "      <td>134</td>\n",
       "      <td>41</td>\n",
       "      <td>91</td>\n",
       "      <td>...</td>\n",
       "      <td>28</td>\n",
       "      <td>34</td>\n",
       "      <td>0.824</td>\n",
       "      <td>14</td>\n",
       "      <td>48</td>\n",
       "      <td>31</td>\n",
       "      <td>8</td>\n",
       "      <td>4</td>\n",
       "      <td>13</td>\n",
       "      <td>19</td>\n",
       "    </tr>\n",
       "    <tr>\n",
       "      <th>4</th>\n",
       "      <td>5</td>\n",
       "      <td>10/27/22</td>\n",
       "      <td>Home</td>\n",
       "      <td>GSW</td>\n",
       "      <td>MIA</td>\n",
       "      <td>W</td>\n",
       "      <td>123</td>\n",
       "      <td>110</td>\n",
       "      <td>46</td>\n",
       "      <td>92</td>\n",
       "      <td>...</td>\n",
       "      <td>18</td>\n",
       "      <td>22</td>\n",
       "      <td>0.818</td>\n",
       "      <td>8</td>\n",
       "      <td>31</td>\n",
       "      <td>25</td>\n",
       "      <td>16</td>\n",
       "      <td>5</td>\n",
       "      <td>12</td>\n",
       "      <td>15</td>\n",
       "    </tr>\n",
       "  </tbody>\n",
       "</table>\n",
       "<p>5 rows × 40 columns</p>\n",
       "</div>"
      ],
      "text/plain": [
       "   G      Date Home_Away Team  Opp Win_Loss  Tm_score  Opp_score  FG_for   \n",
       "0  1  10/18/22      Home  GSW  LAL        W       123        109      45  \\\n",
       "1  2  10/21/22      Home  GSW  DEN        L       123        128      42   \n",
       "2  3  10/23/22      Home  GSW  SAC        W       130        125      45   \n",
       "3  4  10/25/22      Away  GSW  PHO        L       105        134      41   \n",
       "4  5  10/27/22      Home  GSW  MIA        W       123        110      46   \n",
       "\n",
       "   FGA_for  ...  FT_agst  FTA_agst  FTp_agst  ORB_agst  TRB_agst  AST_agst   \n",
       "0       99  ...       19        25     0.760         9        48        23  \\\n",
       "1       88  ...       21        25     0.840        12        41        30   \n",
       "2       87  ...       20        25     0.800        13        51        31   \n",
       "3       91  ...       28        34     0.824        14        48        31   \n",
       "4       92  ...       18        22     0.818         8        31        25   \n",
       "\n",
       "   STL_agst  BLK_agst  TOV_agst  PF_agst  \n",
       "0        12         4        21       18  \n",
       "1        10         2        20       22  \n",
       "2        10         2        16       29  \n",
       "3         8         4        13       19  \n",
       "4        16         5        12       15  \n",
       "\n",
       "[5 rows x 40 columns]"
      ]
     },
     "execution_count": 12,
     "metadata": {},
     "output_type": "execute_result"
    }
   ],
   "source": [
    "df.head()"
   ]
  },
  {
   "cell_type": "code",
   "execution_count": 10,
   "metadata": {
    "collapsed": false,
    "jupyter": {
     "outputs_hidden": false
    }
   },
   "outputs": [
    {
     "data": {
      "text/html": [
       "<div>\n",
       "<style scoped>\n",
       "    .dataframe tbody tr th:only-of-type {\n",
       "        vertical-align: middle;\n",
       "    }\n",
       "\n",
       "    .dataframe tbody tr th {\n",
       "        vertical-align: top;\n",
       "    }\n",
       "\n",
       "    .dataframe thead th {\n",
       "        text-align: right;\n",
       "    }\n",
       "</style>\n",
       "<table border=\"1\" class=\"dataframe\">\n",
       "  <thead>\n",
       "    <tr style=\"text-align: right;\">\n",
       "      <th></th>\n",
       "      <th>G</th>\n",
       "      <th>Date</th>\n",
       "      <th>H/A</th>\n",
       "      <th>Team</th>\n",
       "      <th>Opp</th>\n",
       "      <th>WinLoss</th>\n",
       "      <th>Tm score</th>\n",
       "      <th>Opp score</th>\n",
       "      <th>FG_for</th>\n",
       "      <th>FGA_for</th>\n",
       "      <th>...</th>\n",
       "      <th>FT_agst</th>\n",
       "      <th>FTA_agst</th>\n",
       "      <th>FTp_agst</th>\n",
       "      <th>ORB_agst</th>\n",
       "      <th>TRB_agst</th>\n",
       "      <th>AST_agst</th>\n",
       "      <th>STL_agst</th>\n",
       "      <th>BLK_agst</th>\n",
       "      <th>TOV_agst</th>\n",
       "      <th>PF_agst</th>\n",
       "    </tr>\n",
       "  </thead>\n",
       "  <tbody>\n",
       "    <tr>\n",
       "      <th>0</th>\n",
       "      <td>1</td>\n",
       "      <td>10/18/22</td>\n",
       "      <td>Home</td>\n",
       "      <td>GSW</td>\n",
       "      <td>LAL</td>\n",
       "      <td>W</td>\n",
       "      <td>123</td>\n",
       "      <td>109</td>\n",
       "      <td>45</td>\n",
       "      <td>99</td>\n",
       "      <td>...</td>\n",
       "      <td>19</td>\n",
       "      <td>25</td>\n",
       "      <td>0.760</td>\n",
       "      <td>9</td>\n",
       "      <td>48</td>\n",
       "      <td>23</td>\n",
       "      <td>12</td>\n",
       "      <td>4</td>\n",
       "      <td>21</td>\n",
       "      <td>18</td>\n",
       "    </tr>\n",
       "    <tr>\n",
       "      <th>1</th>\n",
       "      <td>2</td>\n",
       "      <td>10/21/22</td>\n",
       "      <td>Home</td>\n",
       "      <td>GSW</td>\n",
       "      <td>DEN</td>\n",
       "      <td>L</td>\n",
       "      <td>123</td>\n",
       "      <td>128</td>\n",
       "      <td>42</td>\n",
       "      <td>88</td>\n",
       "      <td>...</td>\n",
       "      <td>21</td>\n",
       "      <td>25</td>\n",
       "      <td>0.840</td>\n",
       "      <td>12</td>\n",
       "      <td>41</td>\n",
       "      <td>30</td>\n",
       "      <td>10</td>\n",
       "      <td>2</td>\n",
       "      <td>20</td>\n",
       "      <td>22</td>\n",
       "    </tr>\n",
       "    <tr>\n",
       "      <th>2</th>\n",
       "      <td>3</td>\n",
       "      <td>10/23/22</td>\n",
       "      <td>Home</td>\n",
       "      <td>GSW</td>\n",
       "      <td>SAC</td>\n",
       "      <td>W</td>\n",
       "      <td>130</td>\n",
       "      <td>125</td>\n",
       "      <td>45</td>\n",
       "      <td>87</td>\n",
       "      <td>...</td>\n",
       "      <td>20</td>\n",
       "      <td>25</td>\n",
       "      <td>0.800</td>\n",
       "      <td>13</td>\n",
       "      <td>51</td>\n",
       "      <td>31</td>\n",
       "      <td>10</td>\n",
       "      <td>2</td>\n",
       "      <td>16</td>\n",
       "      <td>29</td>\n",
       "    </tr>\n",
       "    <tr>\n",
       "      <th>3</th>\n",
       "      <td>4</td>\n",
       "      <td>10/25/22</td>\n",
       "      <td>Away</td>\n",
       "      <td>GSW</td>\n",
       "      <td>PHO</td>\n",
       "      <td>L</td>\n",
       "      <td>105</td>\n",
       "      <td>134</td>\n",
       "      <td>41</td>\n",
       "      <td>91</td>\n",
       "      <td>...</td>\n",
       "      <td>28</td>\n",
       "      <td>34</td>\n",
       "      <td>0.824</td>\n",
       "      <td>14</td>\n",
       "      <td>48</td>\n",
       "      <td>31</td>\n",
       "      <td>8</td>\n",
       "      <td>4</td>\n",
       "      <td>13</td>\n",
       "      <td>19</td>\n",
       "    </tr>\n",
       "    <tr>\n",
       "      <th>4</th>\n",
       "      <td>5</td>\n",
       "      <td>10/27/22</td>\n",
       "      <td>Home</td>\n",
       "      <td>GSW</td>\n",
       "      <td>MIA</td>\n",
       "      <td>W</td>\n",
       "      <td>123</td>\n",
       "      <td>110</td>\n",
       "      <td>46</td>\n",
       "      <td>92</td>\n",
       "      <td>...</td>\n",
       "      <td>18</td>\n",
       "      <td>22</td>\n",
       "      <td>0.818</td>\n",
       "      <td>8</td>\n",
       "      <td>31</td>\n",
       "      <td>25</td>\n",
       "      <td>16</td>\n",
       "      <td>5</td>\n",
       "      <td>12</td>\n",
       "      <td>15</td>\n",
       "    </tr>\n",
       "    <tr>\n",
       "      <th>...</th>\n",
       "      <td>...</td>\n",
       "      <td>...</td>\n",
       "      <td>...</td>\n",
       "      <td>...</td>\n",
       "      <td>...</td>\n",
       "      <td>...</td>\n",
       "      <td>...</td>\n",
       "      <td>...</td>\n",
       "      <td>...</td>\n",
       "      <td>...</td>\n",
       "      <td>...</td>\n",
       "      <td>...</td>\n",
       "      <td>...</td>\n",
       "      <td>...</td>\n",
       "      <td>...</td>\n",
       "      <td>...</td>\n",
       "      <td>...</td>\n",
       "      <td>...</td>\n",
       "      <td>...</td>\n",
       "      <td>...</td>\n",
       "      <td>...</td>\n",
       "    </tr>\n",
       "    <tr>\n",
       "      <th>2455</th>\n",
       "      <td>78</td>\n",
       "      <td>4/2/23</td>\n",
       "      <td>Away</td>\n",
       "      <td>SAS</td>\n",
       "      <td>SAC</td>\n",
       "      <td>W</td>\n",
       "      <td>142</td>\n",
       "      <td>134</td>\n",
       "      <td>52</td>\n",
       "      <td>98</td>\n",
       "      <td>...</td>\n",
       "      <td>25</td>\n",
       "      <td>32</td>\n",
       "      <td>0.781</td>\n",
       "      <td>13</td>\n",
       "      <td>43</td>\n",
       "      <td>24</td>\n",
       "      <td>9</td>\n",
       "      <td>5</td>\n",
       "      <td>15</td>\n",
       "      <td>23</td>\n",
       "    </tr>\n",
       "    <tr>\n",
       "      <th>2456</th>\n",
       "      <td>79</td>\n",
       "      <td>4/4/23</td>\n",
       "      <td>Away</td>\n",
       "      <td>SAS</td>\n",
       "      <td>PHO</td>\n",
       "      <td>L</td>\n",
       "      <td>94</td>\n",
       "      <td>115</td>\n",
       "      <td>35</td>\n",
       "      <td>90</td>\n",
       "      <td>...</td>\n",
       "      <td>19</td>\n",
       "      <td>26</td>\n",
       "      <td>0.731</td>\n",
       "      <td>15</td>\n",
       "      <td>57</td>\n",
       "      <td>25</td>\n",
       "      <td>7</td>\n",
       "      <td>7</td>\n",
       "      <td>13</td>\n",
       "      <td>12</td>\n",
       "    </tr>\n",
       "    <tr>\n",
       "      <th>2457</th>\n",
       "      <td>80</td>\n",
       "      <td>4/6/23</td>\n",
       "      <td>Home</td>\n",
       "      <td>SAS</td>\n",
       "      <td>POR</td>\n",
       "      <td>W</td>\n",
       "      <td>129</td>\n",
       "      <td>127</td>\n",
       "      <td>47</td>\n",
       "      <td>106</td>\n",
       "      <td>...</td>\n",
       "      <td>15</td>\n",
       "      <td>18</td>\n",
       "      <td>0.833</td>\n",
       "      <td>8</td>\n",
       "      <td>36</td>\n",
       "      <td>34</td>\n",
       "      <td>7</td>\n",
       "      <td>14</td>\n",
       "      <td>15</td>\n",
       "      <td>22</td>\n",
       "    </tr>\n",
       "    <tr>\n",
       "      <th>2458</th>\n",
       "      <td>81</td>\n",
       "      <td>4/8/23</td>\n",
       "      <td>Home</td>\n",
       "      <td>SAS</td>\n",
       "      <td>MIN</td>\n",
       "      <td>L</td>\n",
       "      <td>131</td>\n",
       "      <td>151</td>\n",
       "      <td>50</td>\n",
       "      <td>95</td>\n",
       "      <td>...</td>\n",
       "      <td>15</td>\n",
       "      <td>21</td>\n",
       "      <td>0.714</td>\n",
       "      <td>11</td>\n",
       "      <td>45</td>\n",
       "      <td>42</td>\n",
       "      <td>8</td>\n",
       "      <td>8</td>\n",
       "      <td>7</td>\n",
       "      <td>18</td>\n",
       "    </tr>\n",
       "    <tr>\n",
       "      <th>2459</th>\n",
       "      <td>82</td>\n",
       "      <td>4/9/23</td>\n",
       "      <td>Away</td>\n",
       "      <td>SAS</td>\n",
       "      <td>DAL</td>\n",
       "      <td>W</td>\n",
       "      <td>138</td>\n",
       "      <td>117</td>\n",
       "      <td>51</td>\n",
       "      <td>104</td>\n",
       "      <td>...</td>\n",
       "      <td>8</td>\n",
       "      <td>16</td>\n",
       "      <td>0.500</td>\n",
       "      <td>8</td>\n",
       "      <td>46</td>\n",
       "      <td>28</td>\n",
       "      <td>4</td>\n",
       "      <td>3</td>\n",
       "      <td>2</td>\n",
       "      <td>21</td>\n",
       "    </tr>\n",
       "  </tbody>\n",
       "</table>\n",
       "<p>2460 rows × 40 columns</p>\n",
       "</div>"
      ],
      "text/plain": [
       "       G      Date   H/A Team  Opp WinLoss  Tm score  Opp score  FG_for   \n",
       "0      1  10/18/22  Home  GSW  LAL       W       123        109      45  \\\n",
       "1      2  10/21/22  Home  GSW  DEN       L       123        128      42   \n",
       "2      3  10/23/22  Home  GSW  SAC       W       130        125      45   \n",
       "3      4  10/25/22  Away  GSW  PHO       L       105        134      41   \n",
       "4      5  10/27/22  Home  GSW  MIA       W       123        110      46   \n",
       "...   ..       ...   ...  ...  ...     ...       ...        ...     ...   \n",
       "2455  78    4/2/23  Away  SAS  SAC       W       142        134      52   \n",
       "2456  79    4/4/23  Away  SAS  PHO       L        94        115      35   \n",
       "2457  80    4/6/23  Home  SAS  POR       W       129        127      47   \n",
       "2458  81    4/8/23  Home  SAS  MIN       L       131        151      50   \n",
       "2459  82    4/9/23  Away  SAS  DAL       W       138        117      51   \n",
       "\n",
       "      FGA_for  ...  FT_agst  FTA_agst  FTp_agst  ORB_agst  TRB_agst  AST_agst   \n",
       "0          99  ...       19        25     0.760         9        48        23  \\\n",
       "1          88  ...       21        25     0.840        12        41        30   \n",
       "2          87  ...       20        25     0.800        13        51        31   \n",
       "3          91  ...       28        34     0.824        14        48        31   \n",
       "4          92  ...       18        22     0.818         8        31        25   \n",
       "...       ...  ...      ...       ...       ...       ...       ...       ...   \n",
       "2455       98  ...       25        32     0.781        13        43        24   \n",
       "2456       90  ...       19        26     0.731        15        57        25   \n",
       "2457      106  ...       15        18     0.833         8        36        34   \n",
       "2458       95  ...       15        21     0.714        11        45        42   \n",
       "2459      104  ...        8        16     0.500         8        46        28   \n",
       "\n",
       "      STL_agst  BLK_agst  TOV_agst  PF_agst  \n",
       "0           12         4        21       18  \n",
       "1           10         2        20       22  \n",
       "2           10         2        16       29  \n",
       "3            8         4        13       19  \n",
       "4           16         5        12       15  \n",
       "...        ...       ...       ...      ...  \n",
       "2455         9         5        15       23  \n",
       "2456         7         7        13       12  \n",
       "2457         7        14        15       22  \n",
       "2458         8         8         7       18  \n",
       "2459         4         3         2       21  \n",
       "\n",
       "[2460 rows x 40 columns]"
      ]
     },
     "execution_count": 10,
     "metadata": {},
     "output_type": "execute_result"
    }
   ],
   "source": [
    "df"
   ]
  },
  {
   "cell_type": "code",
   "execution_count": 26,
   "metadata": {
    "collapsed": false,
    "jupyter": {
     "outputs_hidden": false
    }
   },
   "outputs": [
    {
     "data": {
      "text/plain": [
       "Win_Loss\n",
       "W    1230\n",
       "L    1230\n",
       "Name: count, dtype: int64"
      ]
     },
     "execution_count": 26,
     "metadata": {},
     "output_type": "execute_result"
    }
   ],
   "source": [
    "df['Win_Loss'].value_counts()"
   ]
  },
  {
   "cell_type": "markdown",
   "metadata": {},
   "source": [
    "### Separating features columns from label column and coding binary data contained in win_loss column"
   ]
  },
  {
   "cell_type": "code",
   "execution_count": 31,
   "metadata": {
    "collapsed": false,
    "jupyter": {
     "outputs_hidden": false
    }
   },
   "outputs": [],
   "source": [
    "x= df.drop(columns=['G','Date','Win_Loss','Tm_score','Opp_score'])\n",
    "y=df['Win_Loss'].astype('category').cat.codes\n"
   ]
  },
  {
   "cell_type": "code",
   "execution_count": 34,
   "metadata": {
    "collapsed": false,
    "jupyter": {
     "outputs_hidden": false
    }
   },
   "outputs": [],
   "source": [
    "x['Home_Away'] = x['Home_Away'].astype('category')\n",
    "x['Team'] = x['Team'].astype('category')\n",
    "x['Opp'] = x['Opp'].astype('category')"
   ]
  },
  {
   "cell_type": "markdown",
   "metadata": {},
   "source": [
    "### Enumerating teams' names for inclusion as feature in machine learning model"
   ]
  },
  {
   "cell_type": "code",
   "execution_count": 33,
   "metadata": {
    "collapsed": false,
    "jupyter": {
     "outputs_hidden": false
    }
   },
   "outputs": [
    {
     "data": {
      "text/plain": [
       "{0: 'ATL',\n",
       " 1: 'BOS',\n",
       " 2: 'BRK',\n",
       " 3: 'CHI',\n",
       " 4: 'CHO',\n",
       " 5: 'CLE',\n",
       " 6: 'DAL',\n",
       " 7: 'DEN',\n",
       " 8: 'DET',\n",
       " 9: 'GSW',\n",
       " 10: 'HOU',\n",
       " 11: 'IND',\n",
       " 12: 'LAC',\n",
       " 13: 'LAL',\n",
       " 14: 'MEM',\n",
       " 15: 'MIA',\n",
       " 16: 'MIL',\n",
       " 17: 'MIN',\n",
       " 18: 'NOP',\n",
       " 19: 'NYK',\n",
       " 20: 'OKC',\n",
       " 21: 'ORL',\n",
       " 22: 'PHI',\n",
       " 23: 'PHO',\n",
       " 24: 'POR',\n",
       " 25: 'SAC',\n",
       " 26: 'SAS',\n",
       " 27: 'TOR',\n",
       " 28: 'UTA',\n",
       " 29: 'WAS'}"
      ]
     },
     "execution_count": 33,
     "metadata": {},
     "output_type": "execute_result"
    }
   ],
   "source": [
    "dict( enumerate(x['Team'].cat.categories ) )"
   ]
  },
  {
   "cell_type": "code",
   "execution_count": 35,
   "metadata": {
    "collapsed": false,
    "jupyter": {
     "outputs_hidden": false
    }
   },
   "outputs": [
    {
     "data": {
      "text/plain": [
       "{0: 'ATL',\n",
       " 1: 'BOS',\n",
       " 2: 'BRK',\n",
       " 3: 'CHI',\n",
       " 4: 'CHO',\n",
       " 5: 'CLE',\n",
       " 6: 'DAL',\n",
       " 7: 'DEN',\n",
       " 8: 'DET',\n",
       " 9: 'GSW',\n",
       " 10: 'HOU',\n",
       " 11: 'IND',\n",
       " 12: 'LAC',\n",
       " 13: 'LAL',\n",
       " 14: 'MEM',\n",
       " 15: 'MIA',\n",
       " 16: 'MIL',\n",
       " 17: 'MIN',\n",
       " 18: 'NOP',\n",
       " 19: 'NYK',\n",
       " 20: 'OKC',\n",
       " 21: 'ORL',\n",
       " 22: 'PHI',\n",
       " 23: 'PHO',\n",
       " 24: 'POR',\n",
       " 25: 'SAC',\n",
       " 26: 'SAS',\n",
       " 27: 'TOR',\n",
       " 28: 'UTA',\n",
       " 29: 'WAS'}"
      ]
     },
     "execution_count": 35,
     "metadata": {},
     "output_type": "execute_result"
    }
   ],
   "source": [
    "dict( enumerate(x['Opp'].cat.categories ) )\n"
   ]
  },
  {
   "cell_type": "code",
   "execution_count": 36,
   "metadata": {
    "collapsed": false,
    "jupyter": {
     "outputs_hidden": false
    }
   },
   "outputs": [],
   "source": [
    "x['Home_Away'] = x['Home_Away'].astype('category').astype('category').cat.codes\n",
    "x['Team'] = x['Team'].astype('category').astype('category').cat.codes\n",
    "x['Opp'] = x['Opp'].astype('category').astype('category').cat.codes"
   ]
  },
  {
   "cell_type": "markdown",
   "metadata": {},
   "source": [
    "### Splitting data for training"
   ]
  },
  {
   "cell_type": "code",
   "execution_count": 41,
   "metadata": {
    "collapsed": false,
    "jupyter": {
     "outputs_hidden": false
    }
   },
   "outputs": [],
   "source": [
    "x_train, x_test, y_train, y_test = train_test_split(x,y, test_size=.3, random_state=123)"
   ]
  },
  {
   "cell_type": "code",
   "execution_count": 42,
   "metadata": {
    "collapsed": false,
    "jupyter": {
     "outputs_hidden": false
    }
   },
   "outputs": [
    {
     "data": {
      "text/html": [
       "<div>\n",
       "<style scoped>\n",
       "    .dataframe tbody tr th:only-of-type {\n",
       "        vertical-align: middle;\n",
       "    }\n",
       "\n",
       "    .dataframe tbody tr th {\n",
       "        vertical-align: top;\n",
       "    }\n",
       "\n",
       "    .dataframe thead th {\n",
       "        text-align: right;\n",
       "    }\n",
       "</style>\n",
       "<table border=\"1\" class=\"dataframe\">\n",
       "  <thead>\n",
       "    <tr style=\"text-align: right;\">\n",
       "      <th></th>\n",
       "      <th>Home_Away</th>\n",
       "      <th>Team</th>\n",
       "      <th>Opp</th>\n",
       "      <th>FG_for</th>\n",
       "      <th>FGA_for</th>\n",
       "      <th>FG_p for</th>\n",
       "      <th>3P_for</th>\n",
       "      <th>3PA_for</th>\n",
       "      <th>3Pp_for</th>\n",
       "      <th>FT_for</th>\n",
       "      <th>...</th>\n",
       "      <th>FT_agst</th>\n",
       "      <th>FTA_agst</th>\n",
       "      <th>FTp_agst</th>\n",
       "      <th>ORB_agst</th>\n",
       "      <th>TRB_agst</th>\n",
       "      <th>AST_agst</th>\n",
       "      <th>STL_agst</th>\n",
       "      <th>BLK_agst</th>\n",
       "      <th>TOV_agst</th>\n",
       "      <th>PF_agst</th>\n",
       "    </tr>\n",
       "  </thead>\n",
       "  <tbody>\n",
       "    <tr>\n",
       "      <th>104</th>\n",
       "      <td>0</td>\n",
       "      <td>25</td>\n",
       "      <td>16</td>\n",
       "      <td>43</td>\n",
       "      <td>91</td>\n",
       "      <td>0.473</td>\n",
       "      <td>12</td>\n",
       "      <td>38</td>\n",
       "      <td>0.316</td>\n",
       "      <td>15</td>\n",
       "      <td>...</td>\n",
       "      <td>20</td>\n",
       "      <td>24</td>\n",
       "      <td>0.833</td>\n",
       "      <td>17</td>\n",
       "      <td>50</td>\n",
       "      <td>34</td>\n",
       "      <td>3</td>\n",
       "      <td>2</td>\n",
       "      <td>7</td>\n",
       "      <td>15</td>\n",
       "    </tr>\n",
       "    <tr>\n",
       "      <th>847</th>\n",
       "      <td>0</td>\n",
       "      <td>16</td>\n",
       "      <td>14</td>\n",
       "      <td>35</td>\n",
       "      <td>94</td>\n",
       "      <td>0.372</td>\n",
       "      <td>13</td>\n",
       "      <td>50</td>\n",
       "      <td>0.260</td>\n",
       "      <td>18</td>\n",
       "      <td>...</td>\n",
       "      <td>18</td>\n",
       "      <td>23</td>\n",
       "      <td>0.783</td>\n",
       "      <td>14</td>\n",
       "      <td>56</td>\n",
       "      <td>30</td>\n",
       "      <td>5</td>\n",
       "      <td>7</td>\n",
       "      <td>7</td>\n",
       "      <td>19</td>\n",
       "    </tr>\n",
       "    <tr>\n",
       "      <th>710</th>\n",
       "      <td>1</td>\n",
       "      <td>2</td>\n",
       "      <td>3</td>\n",
       "      <td>39</td>\n",
       "      <td>91</td>\n",
       "      <td>0.429</td>\n",
       "      <td>17</td>\n",
       "      <td>44</td>\n",
       "      <td>0.386</td>\n",
       "      <td>21</td>\n",
       "      <td>...</td>\n",
       "      <td>16</td>\n",
       "      <td>21</td>\n",
       "      <td>0.762</td>\n",
       "      <td>8</td>\n",
       "      <td>46</td>\n",
       "      <td>15</td>\n",
       "      <td>4</td>\n",
       "      <td>2</td>\n",
       "      <td>11</td>\n",
       "      <td>16</td>\n",
       "    </tr>\n",
       "    <tr>\n",
       "      <th>1748</th>\n",
       "      <td>0</td>\n",
       "      <td>17</td>\n",
       "      <td>24</td>\n",
       "      <td>46</td>\n",
       "      <td>93</td>\n",
       "      <td>0.495</td>\n",
       "      <td>10</td>\n",
       "      <td>27</td>\n",
       "      <td>0.370</td>\n",
       "      <td>10</td>\n",
       "      <td>...</td>\n",
       "      <td>16</td>\n",
       "      <td>21</td>\n",
       "      <td>0.762</td>\n",
       "      <td>11</td>\n",
       "      <td>54</td>\n",
       "      <td>32</td>\n",
       "      <td>4</td>\n",
       "      <td>4</td>\n",
       "      <td>18</td>\n",
       "      <td>21</td>\n",
       "    </tr>\n",
       "    <tr>\n",
       "      <th>1512</th>\n",
       "      <td>1</td>\n",
       "      <td>21</td>\n",
       "      <td>29</td>\n",
       "      <td>42</td>\n",
       "      <td>100</td>\n",
       "      <td>0.420</td>\n",
       "      <td>5</td>\n",
       "      <td>27</td>\n",
       "      <td>0.185</td>\n",
       "      <td>11</td>\n",
       "      <td>...</td>\n",
       "      <td>20</td>\n",
       "      <td>25</td>\n",
       "      <td>0.800</td>\n",
       "      <td>4</td>\n",
       "      <td>53</td>\n",
       "      <td>33</td>\n",
       "      <td>4</td>\n",
       "      <td>10</td>\n",
       "      <td>26</td>\n",
       "      <td>18</td>\n",
       "    </tr>\n",
       "    <tr>\n",
       "      <th>...</th>\n",
       "      <td>...</td>\n",
       "      <td>...</td>\n",
       "      <td>...</td>\n",
       "      <td>...</td>\n",
       "      <td>...</td>\n",
       "      <td>...</td>\n",
       "      <td>...</td>\n",
       "      <td>...</td>\n",
       "      <td>...</td>\n",
       "      <td>...</td>\n",
       "      <td>...</td>\n",
       "      <td>...</td>\n",
       "      <td>...</td>\n",
       "      <td>...</td>\n",
       "      <td>...</td>\n",
       "      <td>...</td>\n",
       "      <td>...</td>\n",
       "      <td>...</td>\n",
       "      <td>...</td>\n",
       "      <td>...</td>\n",
       "      <td>...</td>\n",
       "    </tr>\n",
       "    <tr>\n",
       "      <th>1147</th>\n",
       "      <td>0</td>\n",
       "      <td>11</td>\n",
       "      <td>19</td>\n",
       "      <td>46</td>\n",
       "      <td>89</td>\n",
       "      <td>0.517</td>\n",
       "      <td>19</td>\n",
       "      <td>34</td>\n",
       "      <td>0.559</td>\n",
       "      <td>30</td>\n",
       "      <td>...</td>\n",
       "      <td>17</td>\n",
       "      <td>22</td>\n",
       "      <td>0.773</td>\n",
       "      <td>19</td>\n",
       "      <td>53</td>\n",
       "      <td>29</td>\n",
       "      <td>8</td>\n",
       "      <td>8</td>\n",
       "      <td>15</td>\n",
       "      <td>24</td>\n",
       "    </tr>\n",
       "    <tr>\n",
       "      <th>2154</th>\n",
       "      <td>1</td>\n",
       "      <td>18</td>\n",
       "      <td>7</td>\n",
       "      <td>41</td>\n",
       "      <td>81</td>\n",
       "      <td>0.506</td>\n",
       "      <td>11</td>\n",
       "      <td>26</td>\n",
       "      <td>0.423</td>\n",
       "      <td>28</td>\n",
       "      <td>...</td>\n",
       "      <td>16</td>\n",
       "      <td>24</td>\n",
       "      <td>0.667</td>\n",
       "      <td>9</td>\n",
       "      <td>43</td>\n",
       "      <td>24</td>\n",
       "      <td>5</td>\n",
       "      <td>5</td>\n",
       "      <td>19</td>\n",
       "      <td>22</td>\n",
       "    </tr>\n",
       "    <tr>\n",
       "      <th>1766</th>\n",
       "      <td>1</td>\n",
       "      <td>17</td>\n",
       "      <td>28</td>\n",
       "      <td>46</td>\n",
       "      <td>101</td>\n",
       "      <td>0.455</td>\n",
       "      <td>18</td>\n",
       "      <td>41</td>\n",
       "      <td>0.439</td>\n",
       "      <td>15</td>\n",
       "      <td>...</td>\n",
       "      <td>23</td>\n",
       "      <td>28</td>\n",
       "      <td>0.821</td>\n",
       "      <td>14</td>\n",
       "      <td>50</td>\n",
       "      <td>25</td>\n",
       "      <td>0</td>\n",
       "      <td>5</td>\n",
       "      <td>18</td>\n",
       "      <td>12</td>\n",
       "    </tr>\n",
       "    <tr>\n",
       "      <th>1122</th>\n",
       "      <td>1</td>\n",
       "      <td>11</td>\n",
       "      <td>23</td>\n",
       "      <td>36</td>\n",
       "      <td>85</td>\n",
       "      <td>0.424</td>\n",
       "      <td>11</td>\n",
       "      <td>39</td>\n",
       "      <td>0.282</td>\n",
       "      <td>21</td>\n",
       "      <td>...</td>\n",
       "      <td>21</td>\n",
       "      <td>24</td>\n",
       "      <td>0.875</td>\n",
       "      <td>19</td>\n",
       "      <td>53</td>\n",
       "      <td>25</td>\n",
       "      <td>13</td>\n",
       "      <td>2</td>\n",
       "      <td>15</td>\n",
       "      <td>24</td>\n",
       "    </tr>\n",
       "    <tr>\n",
       "      <th>1346</th>\n",
       "      <td>1</td>\n",
       "      <td>0</td>\n",
       "      <td>2</td>\n",
       "      <td>42</td>\n",
       "      <td>97</td>\n",
       "      <td>0.433</td>\n",
       "      <td>8</td>\n",
       "      <td>22</td>\n",
       "      <td>0.364</td>\n",
       "      <td>15</td>\n",
       "      <td>...</td>\n",
       "      <td>14</td>\n",
       "      <td>17</td>\n",
       "      <td>0.824</td>\n",
       "      <td>5</td>\n",
       "      <td>47</td>\n",
       "      <td>22</td>\n",
       "      <td>0</td>\n",
       "      <td>13</td>\n",
       "      <td>12</td>\n",
       "      <td>18</td>\n",
       "    </tr>\n",
       "  </tbody>\n",
       "</table>\n",
       "<p>1722 rows × 35 columns</p>\n",
       "</div>"
      ],
      "text/plain": [
       "      Home_Away  Team  Opp  FG_for  FGA_for  FG_p for  3P_for  3PA_for   \n",
       "104           0    25   16      43       91     0.473      12       38  \\\n",
       "847           0    16   14      35       94     0.372      13       50   \n",
       "710           1     2    3      39       91     0.429      17       44   \n",
       "1748          0    17   24      46       93     0.495      10       27   \n",
       "1512          1    21   29      42      100     0.420       5       27   \n",
       "...         ...   ...  ...     ...      ...       ...     ...      ...   \n",
       "1147          0    11   19      46       89     0.517      19       34   \n",
       "2154          1    18    7      41       81     0.506      11       26   \n",
       "1766          1    17   28      46      101     0.455      18       41   \n",
       "1122          1    11   23      36       85     0.424      11       39   \n",
       "1346          1     0    2      42       97     0.433       8       22   \n",
       "\n",
       "      3Pp_for  FT_for  ...  FT_agst  FTA_agst  FTp_agst  ORB_agst  TRB_agst   \n",
       "104     0.316      15  ...       20        24     0.833        17        50  \\\n",
       "847     0.260      18  ...       18        23     0.783        14        56   \n",
       "710     0.386      21  ...       16        21     0.762         8        46   \n",
       "1748    0.370      10  ...       16        21     0.762        11        54   \n",
       "1512    0.185      11  ...       20        25     0.800         4        53   \n",
       "...       ...     ...  ...      ...       ...       ...       ...       ...   \n",
       "1147    0.559      30  ...       17        22     0.773        19        53   \n",
       "2154    0.423      28  ...       16        24     0.667         9        43   \n",
       "1766    0.439      15  ...       23        28     0.821        14        50   \n",
       "1122    0.282      21  ...       21        24     0.875        19        53   \n",
       "1346    0.364      15  ...       14        17     0.824         5        47   \n",
       "\n",
       "      AST_agst  STL_agst  BLK_agst  TOV_agst  PF_agst  \n",
       "104         34         3         2         7       15  \n",
       "847         30         5         7         7       19  \n",
       "710         15         4         2        11       16  \n",
       "1748        32         4         4        18       21  \n",
       "1512        33         4        10        26       18  \n",
       "...        ...       ...       ...       ...      ...  \n",
       "1147        29         8         8        15       24  \n",
       "2154        24         5         5        19       22  \n",
       "1766        25         0         5        18       12  \n",
       "1122        25        13         2        15       24  \n",
       "1346        22         0        13        12       18  \n",
       "\n",
       "[1722 rows x 35 columns]"
      ]
     },
     "execution_count": 42,
     "metadata": {},
     "output_type": "execute_result"
    }
   ],
   "source": [
    "x_train"
   ]
  },
  {
   "cell_type": "markdown",
   "metadata": {},
   "source": [
    "### Training base logistic regression model"
   ]
  },
  {
   "cell_type": "code",
   "execution_count": 43,
   "metadata": {
    "collapsed": false,
    "jupyter": {
     "outputs_hidden": false
    }
   },
   "outputs": [
    {
     "name": "stderr",
     "output_type": "stream",
     "text": [
      "/Users/pat/PycharmProjects/ML_Session_1/venv/lib/python3.9/site-packages/sklearn/linear_model/_logistic.py:458: ConvergenceWarning: lbfgs failed to converge (status=1):\n",
      "STOP: TOTAL NO. of ITERATIONS REACHED LIMIT.\n",
      "\n",
      "Increase the number of iterations (max_iter) or scale the data as shown in:\n",
      "    https://scikit-learn.org/stable/modules/preprocessing.html\n",
      "Please also refer to the documentation for alternative solver options:\n",
      "    https://scikit-learn.org/stable/modules/linear_model.html#logistic-regression\n",
      "  n_iter_i = _check_optimize_result(\n"
     ]
    },
    {
     "data": {
      "text/html": [
       "<style>#sk-container-id-2 {color: black;background-color: white;}#sk-container-id-2 pre{padding: 0;}#sk-container-id-2 div.sk-toggleable {background-color: white;}#sk-container-id-2 label.sk-toggleable__label {cursor: pointer;display: block;width: 100%;margin-bottom: 0;padding: 0.3em;box-sizing: border-box;text-align: center;}#sk-container-id-2 label.sk-toggleable__label-arrow:before {content: \"▸\";float: left;margin-right: 0.25em;color: #696969;}#sk-container-id-2 label.sk-toggleable__label-arrow:hover:before {color: black;}#sk-container-id-2 div.sk-estimator:hover label.sk-toggleable__label-arrow:before {color: black;}#sk-container-id-2 div.sk-toggleable__content {max-height: 0;max-width: 0;overflow: hidden;text-align: left;background-color: #f0f8ff;}#sk-container-id-2 div.sk-toggleable__content pre {margin: 0.2em;color: black;border-radius: 0.25em;background-color: #f0f8ff;}#sk-container-id-2 input.sk-toggleable__control:checked~div.sk-toggleable__content {max-height: 200px;max-width: 100%;overflow: auto;}#sk-container-id-2 input.sk-toggleable__control:checked~label.sk-toggleable__label-arrow:before {content: \"▾\";}#sk-container-id-2 div.sk-estimator input.sk-toggleable__control:checked~label.sk-toggleable__label {background-color: #d4ebff;}#sk-container-id-2 div.sk-label input.sk-toggleable__control:checked~label.sk-toggleable__label {background-color: #d4ebff;}#sk-container-id-2 input.sk-hidden--visually {border: 0;clip: rect(1px 1px 1px 1px);clip: rect(1px, 1px, 1px, 1px);height: 1px;margin: -1px;overflow: hidden;padding: 0;position: absolute;width: 1px;}#sk-container-id-2 div.sk-estimator {font-family: monospace;background-color: #f0f8ff;border: 1px dotted black;border-radius: 0.25em;box-sizing: border-box;margin-bottom: 0.5em;}#sk-container-id-2 div.sk-estimator:hover {background-color: #d4ebff;}#sk-container-id-2 div.sk-parallel-item::after {content: \"\";width: 100%;border-bottom: 1px solid gray;flex-grow: 1;}#sk-container-id-2 div.sk-label:hover label.sk-toggleable__label {background-color: #d4ebff;}#sk-container-id-2 div.sk-serial::before {content: \"\";position: absolute;border-left: 1px solid gray;box-sizing: border-box;top: 0;bottom: 0;left: 50%;z-index: 0;}#sk-container-id-2 div.sk-serial {display: flex;flex-direction: column;align-items: center;background-color: white;padding-right: 0.2em;padding-left: 0.2em;position: relative;}#sk-container-id-2 div.sk-item {position: relative;z-index: 1;}#sk-container-id-2 div.sk-parallel {display: flex;align-items: stretch;justify-content: center;background-color: white;position: relative;}#sk-container-id-2 div.sk-item::before, #sk-container-id-2 div.sk-parallel-item::before {content: \"\";position: absolute;border-left: 1px solid gray;box-sizing: border-box;top: 0;bottom: 0;left: 50%;z-index: -1;}#sk-container-id-2 div.sk-parallel-item {display: flex;flex-direction: column;z-index: 1;position: relative;background-color: white;}#sk-container-id-2 div.sk-parallel-item:first-child::after {align-self: flex-end;width: 50%;}#sk-container-id-2 div.sk-parallel-item:last-child::after {align-self: flex-start;width: 50%;}#sk-container-id-2 div.sk-parallel-item:only-child::after {width: 0;}#sk-container-id-2 div.sk-dashed-wrapped {border: 1px dashed gray;margin: 0 0.4em 0.5em 0.4em;box-sizing: border-box;padding-bottom: 0.4em;background-color: white;}#sk-container-id-2 div.sk-label label {font-family: monospace;font-weight: bold;display: inline-block;line-height: 1.2em;}#sk-container-id-2 div.sk-label-container {text-align: center;}#sk-container-id-2 div.sk-container {/* jupyter's `normalize.less` sets `[hidden] { display: none; }` but bootstrap.min.css set `[hidden] { display: none !important; }` so we also need the `!important` here to be able to override the default hidden behavior on the sphinx rendered scikit-learn.org. See: https://github.com/scikit-learn/scikit-learn/issues/21755 */display: inline-block !important;position: relative;}#sk-container-id-2 div.sk-text-repr-fallback {display: none;}</style><div id=\"sk-container-id-2\" class=\"sk-top-container\"><div class=\"sk-text-repr-fallback\"><pre>LogisticRegression()</pre><b>In a Jupyter environment, please rerun this cell to show the HTML representation or trust the notebook. <br />On GitHub, the HTML representation is unable to render, please try loading this page with nbviewer.org.</b></div><div class=\"sk-container\" hidden><div class=\"sk-item\"><div class=\"sk-estimator sk-toggleable\"><input class=\"sk-toggleable__control sk-hidden--visually\" id=\"sk-estimator-id-2\" type=\"checkbox\" checked><label for=\"sk-estimator-id-2\" class=\"sk-toggleable__label sk-toggleable__label-arrow\">LogisticRegression</label><div class=\"sk-toggleable__content\"><pre>LogisticRegression()</pre></div></div></div></div></div>"
      ],
      "text/plain": [
       "LogisticRegression()"
      ]
     },
     "execution_count": 43,
     "metadata": {},
     "output_type": "execute_result"
    }
   ],
   "source": [
    "logreg = LogisticRegression()\n",
    "logreg.fit(x_train, y_train)"
   ]
  },
  {
   "cell_type": "code",
   "execution_count": 44,
   "metadata": {
    "collapsed": false,
    "jupyter": {
     "outputs_hidden": false
    }
   },
   "outputs": [
    {
     "data": {
      "text/plain": [
       "1.0"
      ]
     },
     "execution_count": 44,
     "metadata": {},
     "output_type": "execute_result"
    }
   ],
   "source": [
    "logreg.score(x_train, y_train)"
   ]
  },
  {
   "cell_type": "markdown",
   "metadata": {},
   "source": [
    "### Retraining logistic regression model after scaling features"
   ]
  },
  {
   "cell_type": "code",
   "execution_count": 45,
   "metadata": {
    "collapsed": false,
    "jupyter": {
     "outputs_hidden": false
    }
   },
   "outputs": [],
   "source": [
    "scaler=StandardScaler().fit(x_train)\n",
    "x_train_scaled = scaler.transform(x_train)"
   ]
  },
  {
   "cell_type": "code",
   "execution_count": 47,
   "metadata": {
    "collapsed": false,
    "jupyter": {
     "outputs_hidden": false
    }
   },
   "outputs": [
    {
     "data": {
      "text/html": [
       "<style>#sk-container-id-3 {color: black;background-color: white;}#sk-container-id-3 pre{padding: 0;}#sk-container-id-3 div.sk-toggleable {background-color: white;}#sk-container-id-3 label.sk-toggleable__label {cursor: pointer;display: block;width: 100%;margin-bottom: 0;padding: 0.3em;box-sizing: border-box;text-align: center;}#sk-container-id-3 label.sk-toggleable__label-arrow:before {content: \"▸\";float: left;margin-right: 0.25em;color: #696969;}#sk-container-id-3 label.sk-toggleable__label-arrow:hover:before {color: black;}#sk-container-id-3 div.sk-estimator:hover label.sk-toggleable__label-arrow:before {color: black;}#sk-container-id-3 div.sk-toggleable__content {max-height: 0;max-width: 0;overflow: hidden;text-align: left;background-color: #f0f8ff;}#sk-container-id-3 div.sk-toggleable__content pre {margin: 0.2em;color: black;border-radius: 0.25em;background-color: #f0f8ff;}#sk-container-id-3 input.sk-toggleable__control:checked~div.sk-toggleable__content {max-height: 200px;max-width: 100%;overflow: auto;}#sk-container-id-3 input.sk-toggleable__control:checked~label.sk-toggleable__label-arrow:before {content: \"▾\";}#sk-container-id-3 div.sk-estimator input.sk-toggleable__control:checked~label.sk-toggleable__label {background-color: #d4ebff;}#sk-container-id-3 div.sk-label input.sk-toggleable__control:checked~label.sk-toggleable__label {background-color: #d4ebff;}#sk-container-id-3 input.sk-hidden--visually {border: 0;clip: rect(1px 1px 1px 1px);clip: rect(1px, 1px, 1px, 1px);height: 1px;margin: -1px;overflow: hidden;padding: 0;position: absolute;width: 1px;}#sk-container-id-3 div.sk-estimator {font-family: monospace;background-color: #f0f8ff;border: 1px dotted black;border-radius: 0.25em;box-sizing: border-box;margin-bottom: 0.5em;}#sk-container-id-3 div.sk-estimator:hover {background-color: #d4ebff;}#sk-container-id-3 div.sk-parallel-item::after {content: \"\";width: 100%;border-bottom: 1px solid gray;flex-grow: 1;}#sk-container-id-3 div.sk-label:hover label.sk-toggleable__label {background-color: #d4ebff;}#sk-container-id-3 div.sk-serial::before {content: \"\";position: absolute;border-left: 1px solid gray;box-sizing: border-box;top: 0;bottom: 0;left: 50%;z-index: 0;}#sk-container-id-3 div.sk-serial {display: flex;flex-direction: column;align-items: center;background-color: white;padding-right: 0.2em;padding-left: 0.2em;position: relative;}#sk-container-id-3 div.sk-item {position: relative;z-index: 1;}#sk-container-id-3 div.sk-parallel {display: flex;align-items: stretch;justify-content: center;background-color: white;position: relative;}#sk-container-id-3 div.sk-item::before, #sk-container-id-3 div.sk-parallel-item::before {content: \"\";position: absolute;border-left: 1px solid gray;box-sizing: border-box;top: 0;bottom: 0;left: 50%;z-index: -1;}#sk-container-id-3 div.sk-parallel-item {display: flex;flex-direction: column;z-index: 1;position: relative;background-color: white;}#sk-container-id-3 div.sk-parallel-item:first-child::after {align-self: flex-end;width: 50%;}#sk-container-id-3 div.sk-parallel-item:last-child::after {align-self: flex-start;width: 50%;}#sk-container-id-3 div.sk-parallel-item:only-child::after {width: 0;}#sk-container-id-3 div.sk-dashed-wrapped {border: 1px dashed gray;margin: 0 0.4em 0.5em 0.4em;box-sizing: border-box;padding-bottom: 0.4em;background-color: white;}#sk-container-id-3 div.sk-label label {font-family: monospace;font-weight: bold;display: inline-block;line-height: 1.2em;}#sk-container-id-3 div.sk-label-container {text-align: center;}#sk-container-id-3 div.sk-container {/* jupyter's `normalize.less` sets `[hidden] { display: none; }` but bootstrap.min.css set `[hidden] { display: none !important; }` so we also need the `!important` here to be able to override the default hidden behavior on the sphinx rendered scikit-learn.org. See: https://github.com/scikit-learn/scikit-learn/issues/21755 */display: inline-block !important;position: relative;}#sk-container-id-3 div.sk-text-repr-fallback {display: none;}</style><div id=\"sk-container-id-3\" class=\"sk-top-container\"><div class=\"sk-text-repr-fallback\"><pre>LogisticRegression()</pre><b>In a Jupyter environment, please rerun this cell to show the HTML representation or trust the notebook. <br />On GitHub, the HTML representation is unable to render, please try loading this page with nbviewer.org.</b></div><div class=\"sk-container\" hidden><div class=\"sk-item\"><div class=\"sk-estimator sk-toggleable\"><input class=\"sk-toggleable__control sk-hidden--visually\" id=\"sk-estimator-id-3\" type=\"checkbox\" checked><label for=\"sk-estimator-id-3\" class=\"sk-toggleable__label sk-toggleable__label-arrow\">LogisticRegression</label><div class=\"sk-toggleable__content\"><pre>LogisticRegression()</pre></div></div></div></div></div>"
      ],
      "text/plain": [
       "LogisticRegression()"
      ]
     },
     "execution_count": 47,
     "metadata": {},
     "output_type": "execute_result"
    }
   ],
   "source": [
    "logreg.fit(x_train_scaled, y_train)\n"
   ]
  },
  {
   "cell_type": "markdown",
   "metadata": {},
   "source": [
    "### Printing model accuracy"
   ]
  },
  {
   "cell_type": "code",
   "execution_count": 48,
   "metadata": {
    "collapsed": false,
    "jupyter": {
     "outputs_hidden": false
    }
   },
   "outputs": [
    {
     "data": {
      "text/plain": [
       "0.9959349593495935"
      ]
     },
     "execution_count": 48,
     "metadata": {},
     "output_type": "execute_result"
    }
   ],
   "source": [
    "logreg.score(x_train_scaled, y_train)\n"
   ]
  },
  {
   "cell_type": "markdown",
   "metadata": {},
   "source": [
    "### Visualizing feature importance"
   ]
  },
  {
   "cell_type": "code",
   "execution_count": 51,
   "metadata": {
    "collapsed": false,
    "jupyter": {
     "outputs_hidden": false
    }
   },
   "outputs": [
    {
     "data": {
      "text/plain": [
       "<BarContainer object of 35 artists>"
      ]
     },
     "execution_count": 51,
     "metadata": {},
     "output_type": "execute_result"
    },
    {
     "data": {
      "image/png": "[encoded data removed]",
      "text/plain": [
       "<Figure size 2000x1200 with 1 Axes>"
      ]
     },
     "metadata": {},
     "output_type": "display_data"
    }
   ],
   "source": [
    "plt.figure(figsize=(20,12))\n",
    "plt.bar(x.columns.values, logreg.coef_[0])"
   ]
  },
  {
   "cell_type": "code",
   "execution_count": 52,
   "metadata": {
    "collapsed": false,
    "jupyter": {
     "outputs_hidden": false
    }
   },
   "outputs": [],
   "source": [
    "x_test_scaled = scaler.transform(x_test)"
   ]
  },
  {
   "cell_type": "markdown",
   "metadata": {},
   "source": [
    "### Model Predictions Using Test Set "
   ]
  },
  {
   "cell_type": "code",
   "execution_count": 54,
   "metadata": {
    "collapsed": false,
    "jupyter": {
     "outputs_hidden": false
    }
   },
   "outputs": [],
   "source": [
    "y_pred = logreg.predict(x_test_scaled)"
   ]
  },
  {
   "cell_type": "markdown",
   "metadata": {},
   "source": [
    "### Confustion Matrix Using Actual Game Results and Model Predicted Results"
   ]
  },
  {
   "cell_type": "code",
   "execution_count": 55,
   "metadata": {
    "collapsed": false,
    "jupyter": {
     "outputs_hidden": false
    }
   },
   "outputs": [
    {
     "data": {
      "text/plain": [
       "array([[371,   2],\n",
       "       [  3, 362]])"
      ]
     },
     "execution_count": 55,
     "metadata": {},
     "output_type": "execute_result"
    }
   ],
   "source": [
    "from sklearn import metrics\n",
    "cm = metrics.confusion_matrix(y_test, y_pred)\n",
    "cm"
   ]
  },
  {
   "cell_type": "code",
   "execution_count": 56,
   "metadata": {
    "collapsed": false,
    "jupyter": {
     "outputs_hidden": false
    }
   },
   "outputs": [
    {
     "data": {
      "text/plain": [
       "0.9959349593495935"
      ]
     },
     "execution_count": 56,
     "metadata": {},
     "output_type": "execute_result"
    }
   ],
   "source": [
    "logreg.score(x_train_scaled, y_train)"
   ]
  }
 ],
 "metadata": {
  "kernelspec": {
   "display_name": "Python 3 (ipykernel)",
   "language": "python",
   "name": "python3"
  },
  "language_info": {
   "codemirror_mode": {
    "name": "ipython",
    "version": 3
   },
   "file_extension": ".py",
   "mimetype": "text/x-python",
   "name": "python",
   "nbconvert_exporter": "python",
   "pygments_lexer": "ipython3",
   "version": "3.9.12"
  }
 },
 "nbformat": 4,
 "nbformat_minor": 4
}
