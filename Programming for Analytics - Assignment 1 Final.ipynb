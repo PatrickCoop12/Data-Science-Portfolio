{
 "cells": [
  {
   "cell_type": "markdown",
   "metadata": {},
   "source": [
    "# HW1 \n",
    "## Instructions\n",
    "\n",
    "You will submit two files in Moodle\n",
    "1. Jupiter notebook file that contains the scripts and their results for both problems\n",
    "2. A conversion of your jupyter notebook to HTML or PDF\n",
    "\n",
    "Make sure you rename your file to be firstname_lastname_hw1.\n",
    "\n",
    "# Questions"
   ]
  },
  {
   "cell_type": "markdown",
   "metadata": {},
   "source": [
    "1- Write a program that asks the user for an input of each of the date components (day, monty and year). Display the output data in the format of date/month/year for example if the user inputs day as 5, month as 3 and year as 1998, you print out the entered date is 5/3/1998\n",
    "\n"
   ]
  },
  {
   "cell_type": "code",
   "execution_count": 2,
   "metadata": {},
   "outputs": [
    {
     "name": "stdin",
     "output_type": "stream",
     "text": [
      "Please Enter Today's Date (dd):  10\n",
      "Please Enter the Month (MM):  10\n",
      "Please Enter the Year (YYYY):  2022\n"
     ]
    },
    {
     "name": "stdout",
     "output_type": "stream",
     "text": [
      "10 / 10 / 2022\n"
     ]
    }
   ],
   "source": [
    "# Solve Q1 Here\n",
    "\n",
    "day = input(\"Please Enter Today's Date (dd): \")\n",
    "month = input(\"Please Enter the Month (MM): \")\n",
    "year = input(\"Please Enter the Year (YYYY): \")\n",
    "\n",
    "print(day,\"/\",month,\"/\",year)\n"
   ]
  },
  {
   "cell_type": "markdown",
   "metadata": {},
   "source": [
    "2- Use python to find out the two solutions for the quadratic equation 2x2-12x-9=0. You can review quadratic formula solution here. https://youtu.be/i7idZfS8t8w\n",
    "\n",
    "Remember that in python, you can square root of a variable a in many ways. Easiest of them is `a**0.5`"
   ]
  },
  {
   "cell_type": "code",
   "execution_count": 4,
   "metadata": {},
   "outputs": [
    {
     "name": "stdout",
     "output_type": "stream",
     "text": [
      "X =  -0.6742346141747673\n",
      "X =  6.674234614174767\n"
     ]
    }
   ],
   "source": [
    "# Solve Q2 Here\n",
    "# Quadratic Formula: x = (-b + or - sqrt(b**2 - 4ac))/2a\n",
    "import math\n",
    "\n",
    "a = 2\n",
    "b = -12\n",
    "c= -9\n",
    "x1 = (-b - math.sqrt(b**2 - 4*a*c))/(2*a)\n",
    "x2 = (-b + math.sqrt(b**2 - 4*a*c))/(2*a)\n",
    "print(\"X = \",str(x1))\n",
    "print(\"X = \",str(x2))\n"
   ]
  },
  {
   "cell_type": "code",
   "execution_count": null,
   "metadata": {},
   "outputs": [],
   "source": []
  }
 ],
 "metadata": {
  "kernelspec": {
   "display_name": "Python 3 (ipykernel)",
   "language": "python",
   "name": "python3"
  },
  "language_info": {
   "codemirror_mode": {
    "name": "ipython",
    "version": 3
   },
   "file_extension": ".py",
   "mimetype": "text/x-python",
   "name": "python",
   "nbconvert_exporter": "python",
   "pygments_lexer": "ipython3",
   "version": "3.9.12"
  }
 },
 "nbformat": 4,
 "nbformat_minor": 4
}
