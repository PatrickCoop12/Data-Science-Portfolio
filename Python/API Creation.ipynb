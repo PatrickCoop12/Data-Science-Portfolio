{
 "cells": [
  {
   "cell_type": "markdown",
   "id": "a234a19a-718f-46c8-8e55-66a4b4681d3a",
   "metadata": {},
   "source": [
    "# API Creation and Use to Pull Site Data Into DataFrame"
   ]
  },
  {
   "cell_type": "markdown",
   "id": "2503cf9e-179b-4982-bee9-0a47ba656e47",
   "metadata": {},
   "source": [
    "## In this exercise, an API was used to extract data from a website and format from json to a dataframe for analysis"
   ]
  },
  {
   "cell_type": "code",
   "execution_count": 1,
   "id": "40db8b46-1106-484c-b18b-cb4c2b2d6955",
   "metadata": {
    "collapsed": true,
    "jupyter": {
     "outputs_hidden": true
    },
    "tags": []
   },
   "outputs": [
    {
     "name": "stdout",
     "output_type": "stream",
     "text": [
      "{\"totalCount\":4454,\"records\":[{\"FirmId\":\"3237\",\"FirmName\":\"A Lavar Taylor Law\",\"InHouseCompanyId\":\"155203\",\"InHouseCompanyName\":\"AMAZON WEB SERVICES\",\"LowConnections\":\"1\",\"MediumConnections\":\"0\",\"HighConnections\":\"0\",\"TotalConnections\":\"1\"},{\"FirmId\":\"10442\",\"FirmName\":\"A Y Strauss\",\"InHouseCompanyId\":\"155203\",\"InHouseCompanyName\":\"AMAZON WEB SERVICES\",\"LowConnections\":\"11\",\"MediumConnections\":\"5\",\"HighConnections\":\"2\",\"TotalConnections\":\"18\"},{\"FirmId\":\"9744\",\"FirmName\":\"ALAW  James E Albertelli PA\",\"InHouseCompanyId\":\"155203\",\"InHouseCompanyName\":\"AMAZON WEB SERVICES\",\"LowConnections\":\"4\",\"MediumConnections\":\"0\",\"HighConnections\":\"0\",\"TotalConnections\":\"4\"},{\"FirmId\":\"158619\",\"FirmName\":\"AMPACC Law Group PLLC\",\"InHouseCompanyId\":\"155203\",\"InHouseCompanyName\":\"AMAZON WEB SERVICES\",\"LowConnections\":\"18\",\"MediumConnections\":\"2\",\"HighConnections\":\"0\",\"TotalConnections\":\"20\"},{\"FirmId\":\"2512\",\"FirmName\":\"AMS Trade LLP\",\"InHouseCompanyId\":\"155203\",\"InHouseCompanyName\":\"AMAZON WEB SERVICES\",\"LowConnections\":\"3\",\"MediumConnections\":\"0\",\"HighConnections\":\"0\",\"TotalConnections\":\"3\"},{\"FirmId\":\"9757\",\"FirmName\":\"AT Law Group\",\"InHouseCompanyId\":\"155203\",\"InHouseCompanyName\":\"AMAZON WEB SERVICES\",\"LowConnections\":\"2\",\"MediumConnections\":\"0\",\"HighConnections\":\"0\",\"TotalConnections\":\"2\"},{\"FirmId\":\"159057\",\"FirmName\":\"AXS Law Group PLLC\",\"InHouseCompanyId\":\"155203\",\"InHouseCompanyName\":\"AMAZON WEB SERVICES\",\"LowConnections\":\"3\",\"MediumConnections\":\"0\",\"HighConnections\":\"0\",\"TotalConnections\":\"3\"},{\"FirmId\":\"1613\",\"FirmName\":\"Aafedt, Forde, Gray, Monson & Hager, P.A.\",\"InHouseCompanyId\":\"155203\",\"InHouseCompanyName\":\"AMAZON WEB SERVICES\",\"LowConnections\":\"6\",\"MediumConnections\":\"0\",\"HighConnections\":\"0\",\"TotalConnections\":\"6\"},{\"FirmId\":\"4754\",\"FirmName\":\"Aaron, Riechert, Carpol & Riffle, APC\",\"InHouseCompanyId\":\"155203\",\"InHouseCompanyName\":\"AMAZON WEB SERVICES\",\"LowConnections\":\"3\",\"MediumConnections\":\"0\",\"HighConnections\":\"0\",\"TotalConnections\":\"3\"},{\"FirmId\":\"4750\",\"FirmName\":\"Aaronson Rappaport Feinstein and Deutsch LLP\",\"InHouseCompanyId\":\"155203\",\"InHouseCompanyName\":\"AMAZON WEB SERVICES\",\"LowConnections\":\"24\",\"MediumConnections\":\"6\",\"HighConnections\":\"0\",\"TotalConnections\":\"30\"},{\"FirmId\":\"3791\",\"FirmName\":\"Abbey Weitzenberg Warren & Emery PC\",\"InHouseCompanyId\":\"155203\",\"InHouseCompanyName\":\"AMAZON WEB SERVICES\",\"LowConnections\":\"7\",\"MediumConnections\":\"0\",\"HighConnections\":\"0\",\"TotalConnections\":\"7\"},{\"FirmId\":\"4982\",\"FirmName\":\"Abernathy Roeder Boyd & Hullett PC\",\"InHouseCompanyId\":\"155203\",\"InHouseCompanyName\":\"AMAZON WEB SERVICES\",\"LowConnections\":\"3\",\"MediumConnections\":\"3\",\"HighConnections\":\"0\",\"TotalConnections\":\"6\"},{\"FirmId\":\"1747\",\"FirmName\":\"Abrams & Bayliss LLP\",\"InHouseCompanyId\":\"155203\",\"InHouseCompanyName\":\"AMAZON WEB SERVICES\",\"LowConnections\":\"32\",\"MediumConnections\":\"8\",\"HighConnections\":\"0\",\"TotalConnections\":\"40\"},{\"FirmId\":\"4438\",\"FirmName\":\"Abrams Garfinkel Margolis Bergson LLP\",\"InHouseCompanyId\":\"155203\",\"InHouseCompanyName\":\"AMAZON WEB SERVICES\",\"LowConnections\":\"5\",\"MediumConnections\":\"2\",\"HighConnections\":\"0\",\"TotalConnections\":\"7\"},{\"FirmId\":\"4758\",\"FirmName\":\"Abrams Gorelick Friedman & Jacobson, PC\",\"InHouseCompanyId\":\"155203\",\"InHouseCompanyName\":\"AMAZON WEB SERVICES\",\"LowConnections\":\"1\",\"MediumConnections\":\"0\",\"HighConnections\":\"0\",\"TotalConnections\":\"1\"},{\"FirmId\":\"4757\",\"FirmName\":\"Abrams, Fensterman, Fensterman Eisman Formato Ferrara Wolf & Carone LLP\",\"InHouseCompanyId\":\"155203\",\"InHouseCompanyName\":\"AMAZON WEB SERVICES\",\"LowConnections\":\"35\",\"MediumConnections\":\"10\",\"HighConnections\":\"0\",\"TotalConnections\":\"45\"},{\"FirmId\":\"4986\",\"FirmName\":\"Acker & Whipple\",\"InHouseCompanyId\":\"155203\",\"InHouseCompanyName\":\"AMAZON WEB SERVICES\",\"LowConnections\":\"4\",\"MediumConnections\":\"1\",\"HighConnections\":\"0\",\"TotalConnections\":\"5\"},{\"FirmId\":\"158813\",\"FirmName\":\"Actuate Law LLC\",\"InHouseCompanyId\":\"155203\",\"InHouseCompanyName\":\"AMAZON WEB SERVICES\",\"LowConnections\":\"22\",\"MediumConnections\":\"5\",\"HighConnections\":\"0\",\"TotalConnections\":\"27\"},{\"FirmId\":\"2447\",\"FirmName\":\"Adam Leitman Bailey PC\",\"InHouseCompanyId\":\"155203\",\"InHouseCompanyName\":\"AMAZON WEB SERVICES\",\"LowConnections\":\"7\",\"MediumConnections\":\"2\",\"HighConnections\":\"0\",\"TotalConnections\":\"9\"},{\"FirmId\":\"9741\",\"FirmName\":\"Adams Stirling PLC\",\"InHouseCompanyId\":\"155203\",\"InHouseCompanyName\":\"AMAZON WEB SERVICES\",\"LowConnections\":\"1\",\"MediumConnections\":\"1\",\"HighConnections\":\"0\",\"TotalConnections\":\"2\"},{\"FirmId\":\"1550\",\"FirmName\":\"Adams and Reese LLP\",\"InHouseCompanyId\":\"155203\",\"InHouseCompanyName\":\"AMAZON WEB SERVICES\",\"LowConnections\":\"43\",\"MediumConnections\":\"13\",\"HighConnections\":\"1\",\"TotalConnections\":\"57\"},{\"FirmId\":\"3563\",\"FirmName\":\"Adamski Moroski Madden Cumberland & Green LLP\",\"InHouseCompanyId\":\"155203\",\"InHouseCompanyName\":\"AMAZON WEB SERVICES\",\"LowConnections\":\"2\",\"MediumConnections\":\"3\",\"HighConnections\":\"0\",\"TotalConnections\":\"5\"},{\"FirmId\":\"8914\",\"FirmName\":\"Addleshaw Goddard\",\"InHouseCompanyId\":\"155203\",\"InHouseCompanyName\":\"AMAZON WEB SERVICES\",\"LowConnections\":\"132\",\"MediumConnections\":\"51\",\"HighConnections\":\"0\",\"TotalConnections\":\"183\"},{\"FirmId\":\"4991\",\"FirmName\":\"Adler & Colvin\",\"InHouseCompanyId\":\"155203\",\"InHouseCompanyName\":\"AMAZON WEB SERVICES\",\"LowConnections\":\"20\",\"MediumConnections\":\"5\",\"HighConnections\":\"1\",\"TotalConnections\":\"26\"},{\"FirmId\":\"684\",\"FirmName\":\"Adler & Stachenfeld LLP\",\"InHouseCompanyId\":\"155203\",\"InHouseCompanyName\":\"AMAZON WEB SERVICES\",\"LowConnections\":\"34\",\"MediumConnections\":\"15\",\"HighConnections\":\"1\",\"TotalConnections\":\"50\"},{\"FirmId\":\"4819\",\"FirmName\":\"Adler Murphy & Mcquillen, LLP\",\"InHouseCompanyId\":\"155203\",\"InHouseCompanyName\":\"AMAZON WEB SERVICES\",\"LowConnections\":\"3\",\"MediumConnections\":\"4\",\"HighConnections\":\"0\",\"TotalConnections\":\"7\"},{\"FirmId\":\"1166\",\"FirmName\":\"Adler Pollock & Sheehan PC\",\"InHouseCompanyId\":\"155203\",\"InHouseCompanyName\":\"AMAZON WEB SERVICES\",\"LowConnections\":\"21\",\"MediumConnections\":\"5\",\"HighConnections\":\"0\",\"TotalConnections\":\"26\"},{\"FirmId\":\"4764\",\"FirmName\":\"Adler, Cohen, Harvey, Wakeman & Guekguezian\",\"InHouseCompanyId\":\"155203\",\"InHouseCompanyName\":\"AMAZON WEB SERVICES\",\"LowConnections\":\"2\",\"MediumConnections\":\"0\",\"HighConnections\":\"0\",\"TotalConnections\":\"2\"},{\"FirmId\":\"4158\",\"FirmName\":\"Aegis Law\",\"InHouseCompanyId\":\"155203\",\"InHouseCompanyName\":\"AMAZON WEB SERVICES\",\"LowConnections\":\"5\",\"MediumConnections\":\"5\",\"HighConnections\":\"0\",\"TotalConnections\":\"10\"},{\"FirmId\":\"159374\",\"FirmName\":\"Affinity Law Group\",\"InHouseCompanyId\":\"155203\",\"InHouseCompanyName\":\"AMAZON WEB SERVICES\",\"LowConnections\":\"1\",\"MediumConnections\":\"0\",\"HighConnections\":\"0\",\"TotalConnections\":\"1\"},{\"FirmId\":\"158825\",\"FirmName\":\"Aghl Law\",\"InHouseCompanyId\":\"155203\",\"InHouseCompanyName\":\"AMAZON WEB SERVICES\",\"LowConnections\":\"2\",\"MediumConnections\":\"1\",\"HighConnections\":\"0\",\"TotalConnections\":\"3\"},{\"FirmId\":\"4791\",\"FirmName\":\"Ahlers & Cooney, PC\",\"InHouseCompanyId\":\"155203\",\"InHouseCompanyName\":\"AMAZON WEB SERVICES\",\"LowConnections\":\"5\",\"MediumConnections\":\"0\",\"HighConnections\":\"0\",\"TotalConnections\":\"5\"},{\"FirmId\":\"1298\",\"FirmName\":\"Ahmad Zavitsanos & Mensing\",\"InHouseCompanyId\":\"155203\",\"InHouseCompanyName\":\"AMAZON WEB SERVICES\",\"LowConnections\":\"62\",\"MediumConnections\":\"4\",\"HighConnections\":\"0\",\"TotalConnections\":\"66\"},{\"FirmId\":\"4792\",\"FirmName\":\"Ahmuty Demers & McManus\",\"InHouseCompanyId\":\"155203\",\"InHouseCompanyName\":\"AMAZON WEB SERVICES\",\"LowConnections\":\"7\",\"MediumConnections\":\"2\",\"HighConnections\":\"0\",\"TotalConnections\":\"9\"},{\"FirmId\":\"4767\",\"FirmName\":\"Ahrens DeAngeli Law Group, LLP\",\"InHouseCompanyId\":\"155203\",\"InHouseCompanyName\":\"AMAZON WEB SERVICES\",\"LowConnections\":\"1\",\"MediumConnections\":\"1\",\"HighConnections\":\"0\",\"TotalConnections\":\"2\"},{\"FirmId\":\"4768\",\"FirmName\":\"Aiello Harris Marth Tunnero & Schiffman PC\",\"InHouseCompanyId\":\"155203\",\"InHouseCompanyName\":\"AMAZON WEB SERVICES\",\"LowConnections\":\"2\",\"MediumConnections\":\"0\",\"HighConnections\":\"0\",\"TotalConnections\":\"2\"},{\"FirmId\":\"3715\",\"FirmName\":\"Ajamie LLP\",\"InHouseCompanyId\":\"155203\",\"InHouseCompanyName\":\"AMAZON WEB SERVICES\",\"LowConnections\":\"7\",\"MediumConnections\":\"2\",\"HighConnections\":\"1\",\"TotalConnections\":\"10\"},{\"FirmId\":\"1009\",\"FirmName\":\"Akerman LLP\",\"InHouseCompanyId\":\"155203\",\"InHouseCompanyName\":\"AMAZON WEB SERVICES\",\"LowConnections\":\"466\",\"MediumConnections\":\"228\",\"HighConnections\":\"19\",\"TotalConnections\":\"713\"},{\"FirmId\":\"592\",\"FirmName\":\"Akin, Gump, Strauss, Hauer & Feld, LLP\",\"InHouseCompanyId\":\"155203\",\"InHouseCompanyName\":\"AMAZON WEB SERVICES\",\"LowConnections\":\"1444\",\"MediumConnections\":\"1547\",\"HighConnections\":\"305\",\"TotalConnections\":\"3296\"},{\"FirmId\":\"4770\",\"FirmName\":\"Akman & Associates PC\",\"InHouseCompanyId\":\"155203\",\"InHouseCompanyName\":\"AMAZON WEB SERVICES\",\"LowConnections\":\"6\",\"MediumConnections\":\"2\",\"HighConnections\":\"0\",\"TotalConnections\":\"8\"},{\"FirmId\":\"159527\",\"FirmName\":\"Alan Lescht & Associates PC\",\"InHouseCompanyId\":\"155203\",\"InHouseCompanyName\":\"AMAZON WEB SERVICES\",\"LowConnections\":\"17\",\"MediumConnections\":\"5\",\"HighConnections\":\"0\",\"TotalConnections\":\"22\"},{\"FirmId\":\"4824\",\"FirmName\":\"Albert & Mackenzie\",\"InHouseCompanyId\":\"155203\",\"InHouseCompanyName\":\"AMAZON WEB SERVICES\",\"LowConnections\":\"13\",\"MediumConnections\":\"4\",\"HighConnections\":\"0\",\"TotalConnections\":\"17\"},{\"FirmId\":\"4774\",\"FirmName\":\"AlderLaw, PC\",\"InHouseCompanyId\":\"155203\",\"InHouseCompanyName\":\"AMAZON WEB SERVICES\",\"LowConnections\":\"1\",\"MediumConnections\":\"0\",\"HighConnections\":\"0\",\"TotalConnections\":\"1\"},{\"FirmId\":\"1008\",\"FirmName\":\"Aldrich & Bonnefin PLC\",\"InHouseCompanyId\":\"155203\",\"InHouseCompanyName\":\"AMAZON WEB SERVICES\",\"LowConnections\":\"1\",\"MediumConnections\":\"0\",\"HighConnections\":\"0\",\"TotalConnections\":\"1\"},{\"FirmId\":\"8816\",\"FirmName\":\"Aldridge Pite LLP\",\"InHouseCompanyId\":\"155203\",\"InHouseCompanyName\":\"AMAZON WEB SERVICES\",\"LowConnections\":\"10\",\"MediumConnections\":\"4\",\"HighConnections\":\"0\",\"TotalConnections\":\"14\"},{\"FirmId\":\"4825\",\"FirmName\":\"Aleshire & Wynder, LLP\",\"InHouseCompanyId\":\"155203\",\"InHouseCompanyName\":\"AMAZON WEB SERVICES\",\"LowConnections\":\"16\",\"MediumConnections\":\"5\",\"HighConnections\":\"0\",\"TotalConnections\":\"21\"},{\"FirmId\":\"3312\",\"FirmName\":\"Alexander Degance Barnett\",\"InHouseCompanyId\":\"155203\",\"InHouseCompanyName\":\"AMAZON WEB SERVICES\",\"LowConnections\":\"7\",\"MediumConnections\":\"1\",\"HighConnections\":\"0\",\"TotalConnections\":\"8\"},{\"FirmId\":\"4828\",\"FirmName\":\"Alexander Dubose Jefferson & Townsend, LLP\",\"InHouseCompanyId\":\"155203\",\"InHouseCompanyName\":\"AMAZON WEB SERVICES\",\"LowConnections\":\"8\",\"MediumConnections\":\"2\",\"HighConnections\":\"0\",\"TotalConnections\":\"10\"},{\"FirmId\":\"9745\",\"FirmName\":\"Alexander Ricks PLLC\",\"InHouseCompanyId\":\"155203\",\"InHouseCompanyName\":\"AMAZON WEB SERVICES\",\"LowConnections\":\"18\",\"MediumConnections\":\"2\",\"HighConnections\":\"0\",\"TotalConnections\":\"20\"},{\"FirmId\":\"8804\",\"FirmName\":\"Alexander Shunnarah Injury Lawyers\",\"InHouseCompanyId\":\"155203\",\"InHouseCompanyName\":\"AMAZON WEB SERVICES\",\"LowConnections\":\"12\",\"MediumConnections\":\"0\",\"HighConnections\":\"0\",\"TotalConnections\":\"12\"},{\"FirmId\":\"4998\",\"FirmName\":\"Allegaert Berger & Vogel, LLP\",\"InHouseCompanyId\":\"155203\",\"InHouseCompanyName\":\"AMAZON WEB SERVICES\",\"LowConnections\":\"19\",\"MediumConnections\":\"6\",\"HighConnections\":\"0\",\"TotalConnections\":\"25\"},{\"FirmId\":\"593\",\"FirmName\":\"Allen & Overy LLP\",\"InHouseCompanyId\":\"155203\",\"InHouseCompanyName\":\"AMAZON WEB SERVICES\",\"LowConnections\":\"5783\",\"MediumConnections\":\"1503\",\"HighConnections\":\"24\",\"TotalConnections\":\"7310\"},{\"FirmId\":\"1299\",\"FirmName\":\"Allen Boone Humphries Robinson LLP\",\"InHouseCompanyId\":\"155203\",\"InHouseCompanyName\":\"AMAZON WEB SERVICES\",\"LowConnections\":\"43\",\"MediumConnections\":\"10\",\"HighConnections\":\"0\",\"TotalConnections\":\"53\"},{\"FirmId\":\"159053\",\"FirmName\":\"Allen Glaessner Hazelwood & Werth LLP\",\"InHouseCompanyId\":\"155203\",\"InHouseCompanyName\":\"AMAZON WEB SERVICES\",\"LowConnections\":\"4\",\"MediumConnections\":\"2\",\"HighConnections\":\"0\",\"TotalConnections\":\"6\"},{\"FirmId\":\"594\",\"FirmName\":\"Allen Matkins Leck Gamble Mallory & Natsis LLP\",\"InHouseCompanyId\":\"155203\",\"InHouseCompanyName\":\"AMAZON WEB SERVICES\",\"LowConnections\":\"147\",\"MediumConnections\":\"45\",\"HighConnections\":\"4\",\"TotalConnections\":\"196\"},{\"FirmId\":\"4831\",\"FirmName\":\"Allen Stovall Neuman Fisher & Ashton LLP\",\"InHouseCompanyId\":\"155203\",\"InHouseCompanyName\":\"AMAZON WEB SERVICES\",\"LowConnections\":\"4\",\"MediumConnections\":\"1\",\"HighConnections\":\"0\",\"TotalConnections\":\"5\"},{\"FirmId\":\"4798\",\"FirmName\":\"Allen Wellman McNew Harvey, LLP\",\"InHouseCompanyId\":\"155203\",\"InHouseCompanyName\":\"AMAZON WEB SERVICES\",\"LowConnections\":\"4\",\"MediumConnections\":\"0\",\"HighConnections\":\"0\",\"TotalConnections\":\"4\"},{\"FirmId\":\"4999\",\"FirmName\":\"Allensworth & Porter, LLP\",\"InHouseCompanyId\":\"155203\",\"InHouseCompanyName\":\"AMAZON WEB SERVICES\",\"LowConnections\":\"11\",\"MediumConnections\":\"1\",\"HighConnections\":\"0\",\"TotalConnections\":\"12\"},{\"FirmId\":\"4993\",\"FirmName\":\"Allers Cressman & Sleight PLLC\",\"InHouseCompanyId\":\"155203\",\"InHouseCompanyName\":\"AMAZON WEB SERVICES\",\"LowConnections\":\"5\",\"MediumConnections\":\"2\",\"HighConnections\":\"0\",\"TotalConnections\":\"7\"},{\"FirmId\":\"1497\",\"FirmName\":\"Alley, Maass, Rogers & Lindsay P.A.\",\"InHouseCompanyId\":\"155203\",\"InHouseCompanyName\":\"AMAZON WEB SERVICES\",\"LowConnections\":\"3\",\"MediumConnections\":\"4\",\"HighConnections\":\"0\",\"TotalConnections\":\"7\"},{\"FirmId\":\"4833\",\"FirmName\":\"Allison MacKenzie\",\"InHouseCompanyId\":\"155203\",\"InHouseCompanyName\":\"AMAZON WEB SERVICES\",\"LowConnections\":\"2\",\"MediumConnections\":\"0\",\"HighConnections\":\"0\",\"TotalConnections\":\"2\"},{\"FirmId\":\"4778\",\"FirmName\":\"Almanza Blackburn Dickie & Mitchell LLP\",\"InHouseCompanyId\":\"155203\",\"InHouseCompanyName\":\"AMAZON WEB SERVICES\",\"LowConnections\":\"7\",\"MediumConnections\":\"1\",\"HighConnections\":\"0\",\"TotalConnections\":\"8\"},{\"FirmId\":\"159375\",\"FirmName\":\"Aloia Roland Lubell & Morgan PLLC\",\"InHouseCompanyId\":\"155203\",\"InHouseCompanyName\":\"AMAZON WEB SERVICES\",\"LowConnections\":\"4\",\"MediumConnections\":\"0\",\"HighConnections\":\"0\",\"TotalConnections\":\"4\"},{\"FirmId\":\"595\",\"FirmName\":\"Alston & Bird LLP\",\"InHouseCompanyId\":\"155203\",\"InHouseCompanyName\":\"AMAZON WEB SERVICES\",\"LowConnections\":\"1269\",\"MediumConnections\":\"939\",\"HighConnections\":\"47\",\"TotalConnections\":\"2255\"},{\"FirmId\":\"2574\",\"FirmName\":\"Alston Courtnage & Bassetti LLP\",\"InHouseCompanyId\":\"155203\",\"InHouseCompanyName\":\"AMAZON WEB SERVICES\",\"LowConnections\":\"4\",\"MediumConnections\":\"4\",\"HighConnections\":\"0\",\"TotalConnections\":\"8\"},{\"FirmId\":\"9746\",\"FirmName\":\"Altitude Community Law\",\"InHouseCompanyId\":\"155203\",\"InHouseCompanyName\":\"AMAZON WEB SERVICES\",\"LowConnections\":\"2\",\"MediumConnections\":\"0\",\"HighConnections\":\"0\",\"TotalConnections\":\"2\"},{\"FirmId\":\"4802\",\"FirmName\":\"Altshuler Berzon LLP\",\"InHouseCompanyId\":\"155203\",\"InHouseCompanyName\":\"AMAZON WEB SERVICES\",\"LowConnections\":\"11\",\"MediumConnections\":\"3\",\"HighConnections\":\"0\",\"TotalConnections\":\"14\"},{\"FirmId\":\"1435\",\"FirmName\":\"Alvarez Winthrop Thompson & Storey PA\",\"InHouseCompanyId\":\"155203\",\"InHouseCompanyName\":\"AMAZON WEB SERVICES\",\"LowConnections\":\"1\",\"MediumConnections\":\"1\",\"HighConnections\":\"0\",\"TotalConnections\":\"2\"},{\"FirmId\":\"4803\",\"FirmName\":\"Alvarez-Glasman & Colvin\",\"InHouseCompanyId\":\"155203\",\"InHouseCompanyName\":\"AMAZON WEB SERVICES\",\"LowConnections\":\"6\",\"MediumConnections\":\"2\",\"HighConnections\":\"0\",\"TotalConnections\":\"8\"},{\"FirmId\":\"159632\",\"FirmName\":\"Alward Fisher\",\"InHouseCompanyId\":\"155203\",\"InHouseCompanyName\":\"AMAZON WEB SERVICES\",\"LowConnections\":\"1\",\"MediumConnections\":\"0\",\"HighConnections\":\"0\",\"TotalConnections\":\"1\"},{\"FirmId\":\"5005\",\"FirmName\":\"Amabile & Erman, PC\",\"InHouseCompanyId\":\"155203\",\"InHouseCompanyName\":\"AMAZON WEB SERVICES\",\"LowConnections\":\"1\",\"MediumConnections\":\"1\",\"HighConnections\":\"0\",\"TotalConnections\":\"2\"},{\"FirmId\":\"4805\",\"FirmName\":\"Amin Talati & Upadhye, LLC\",\"InHouseCompanyId\":\"155203\",\"InHouseCompanyName\":\"AMAZON WEB SERVICES\",\"LowConnections\":\"16\",\"MediumConnections\":\"9\",\"HighConnections\":\"3\",\"TotalConnections\":\"28\"},{\"FirmId\":\"3331\",\"FirmName\":\"Amin Turocy & Watson LLP\",\"InHouseCompanyId\":\"155203\",\"InHouseCompanyName\":\"AMAZON WEB SERVICES\",\"LowConnections\":\"5\",\"MediumConnections\":\"5\",\"HighConnections\":\"0\",\"TotalConnections\":\"10\"},{\"FirmId\":\"158775\",\"FirmName\":\"Amis Patel & Brewer\",\"InHouseCompanyId\":\"155203\",\"InHouseCompanyName\":\"AMAZON WEB SERVICES\",\"LowConnections\":\"34\",\"MediumConnections\":\"15\",\"HighConnections\":\"1\",\"TotalConnections\":\"50\"},{\"FirmId\":\"596\",\"FirmName\":\"Amster Rothstein & Ebenstein LLP\",\"InHouseCompanyId\":\"155203\",\"InHouseCompanyName\":\"AMAZON WEB SERVICES\",\"LowConnections\":\"21\",\"MediumConnections\":\"4\",\"HighConnections\":\"0\",\"TotalConnections\":\"25\"},{\"FirmId\":\"2252\",\"FirmName\":\"Amundsen Davis LLC\",\"InHouseCompanyId\":\"155203\",\"InHouseCompanyName\":\"AMAZON WEB SERVICES\",\"LowConnections\":\"59\",\"MediumConnections\":\"13\",\"HighConnections\":\"1\",\"TotalConnections\":\"73\"},{\"FirmId\":\"3313\",\"FirmName\":\"Amy Stewart PC\",\"InHouseCompanyId\":\"155203\",\"InHouseCompanyName\":\"AMAZON WEB SERVICES\",\"LowConnections\":\"2\",\"MediumConnections\":\"2\",\"HighConnections\":\"0\",\"TotalConnections\":\"4\"},{\"FirmId\":\"4866\",\"FirmName\":\"Anapol Weiss\",\"InHouseCompanyId\":\"155203\",\"InHouseCompanyName\":\"AMAZON WEB SERVICES\",\"LowConnections\":\"2\",\"MediumConnections\":\"0\",\"HighConnections\":\"0\",\"TotalConnections\":\"2\"},{\"FirmId\":\"4867\",\"FirmName\":\"Ancel Glink\",\"InHouseCompanyId\":\"155203\",\"InHouseCompanyName\":\"AMAZON WEB SERVICES\",\"LowConnections\":\"9\",\"MediumConnections\":\"0\",\"HighConnections\":\"0\",\"TotalConnections\":\"9\"},{\"FirmId\":\"3469\",\"FirmName\":\"Anchors Smith Grimsley\",\"InHouseCompanyId\":\"155203\",\"InHouseCompanyName\":\"AMAZON WEB SERVICES\",\"LowConnections\":\"2\",\"MediumConnections\":\"0\",\"HighConnections\":\"0\",\"TotalConnections\":\"2\"},{\"FirmId\":\"159055\",\"FirmName\":\"Andersen PLLC\",\"InHouseCompanyId\":\"155203\",\"InHouseCompanyName\":\"AMAZON WEB SERVICES\",\"LowConnections\":\"1\",\"MediumConnections\":\"0\",\"HighConnections\":\"0\",\"TotalConnections\":\"1\"},{\"FirmId\":\"4868\",\"FirmName\":\"Andersen Tate & Carr, PC\",\"InHouseCompanyId\":\"155203\",\"InHouseCompanyName\":\"AMAZON WEB SERVICES\",\"LowConnections\":\"4\",\"MediumConnections\":\"0\",\"HighConnections\":\"0\",\"TotalConnections\":\"4\"},{\"FirmId\":\"4870\",\"FirmName\":\"Anderson & Karrenberg\",\"InHouseCompanyId\":\"155203\",\"InHouseCompanyName\":\"AMAZON WEB SERVICES\",\"LowConnections\":\"4\",\"MediumConnections\":\"2\",\"HighConnections\":\"0\",\"TotalConnections\":\"6\"},{\"FirmId\":\"4836\",\"FirmName\":\"Anderson & Kreiger LLP\",\"InHouseCompanyId\":\"155203\",\"InHouseCompanyName\":\"AMAZON WEB SERVICES\",\"LowConnections\":\"19\",\"MediumConnections\":\"1\",\"HighConnections\":\"0\",\"TotalConnections\":\"20\"},{\"FirmId\":\"4808\",\"FirmName\":\"Anderson Hunter\",\"InHouseCompanyId\":\"155203\",\"InHouseCompanyName\":\"AMAZON WEB SERVICES\",\"LowConnections\":\"3\",\"MediumConnections\":\"1\",\"HighConnections\":\"0\",\"TotalConnections\":\"4\"},{\"FirmId\":\"597\",\"FirmName\":\"Anderson Kill PC\",\"InHouseCompanyId\":\"155203\",\"InHouseCompanyName\":\"AMAZON WEB SERVICES\",\"LowConnections\":\"26\",\"MediumConnections\":\"8\",\"HighConnections\":\"0\",\"TotalConnections\":\"34\"},{\"FirmId\":\"4894\",\"FirmName\":\"Anderson O Brien Law Firm\",\"InHouseCompanyId\":\"155203\",\"InHouseCompanyName\":\"AMAZON WEB SERVICES\",\"LowConnections\":\"3\",\"MediumConnections\":\"0\",\"HighConnections\":\"0\",\"TotalConnections\":\"3\"},{\"FirmId\":\"4895\",\"FirmName\":\"Anderson Rasor & Partners, LLP\",\"InHouseCompanyId\":\"155203\",\"InHouseCompanyName\":\"AMAZON WEB SERVICES\",\"LowConnections\":\"3\",\"MediumConnections\":\"0\",\"HighConnections\":\"0\",\"TotalConnections\":\"3\"},{\"FirmId\":\"4900\",\"FirmName\":\"Anderson Wilmarth Van Der Maaten Belay Fretheim Gipp Evelsizer Olson Noble Lynch & Zahasky\",\"InHouseCompanyId\":\"155203\",\"InHouseCompanyName\":\"AMAZON WEB SERVICES\",\"LowConnections\":\"1\",\"MediumConnections\":\"0\",\"HighConnections\":\"0\",\"TotalConnections\":\"1\"},{\"FirmId\":\"9748\",\"FirmName\":\"Anderson Yazdi Hwang Minton & Horn LLP\",\"InHouseCompanyId\":\"155203\",\"InHouseCompanyName\":\"AMAZON WEB SERVICES\",\"LowConnections\":\"12\",\"MediumConnections\":\"2\",\"HighConnections\":\"0\",\"TotalConnections\":\"14\"},{\"FirmId\":\"9749\",\"FirmName\":\"AndersonGlenn LLP\",\"InHouseCompanyId\":\"155203\",\"InHouseCompanyName\":\"AMAZON WEB SERVICES\",\"LowConnections\":\"1\",\"MediumConnections\":\"1\",\"HighConnections\":\"0\",\"TotalConnections\":\"2\"},{\"FirmId\":\"9750\",\"FirmName\":\"Andre Morris & Buttery\",\"InHouseCompanyId\":\"155203\",\"InHouseCompanyName\":\"AMAZON WEB SERVICES\",\"LowConnections\":\"11\",\"MediumConnections\":\"2\",\"HighConnections\":\"0\",\"TotalConnections\":\"13\"},{\"FirmId\":\"4303\",\"FirmName\":\"Andrews Myers PC\",\"InHouseCompanyId\":\"155203\",\"InHouseCompanyName\":\"AMAZON WEB SERVICES\",\"LowConnections\":\"23\",\"MediumConnections\":\"8\",\"HighConnections\":\"1\",\"TotalConnections\":\"32\"},{\"FirmId\":\"4903\",\"FirmName\":\"Andrus Intellectual Property Law LLP\",\"InHouseCompanyId\":\"155203\",\"InHouseCompanyName\":\"AMAZON WEB SERVICES\",\"LowConnections\":\"3\",\"MediumConnections\":\"2\",\"HighConnections\":\"2\",\"TotalConnections\":\"7\"},{\"FirmId\":\"1845\",\"FirmName\":\"Angius & Terry LLP\",\"InHouseCompanyId\":\"155203\",\"InHouseCompanyName\":\"AMAZON WEB SERVICES\",\"LowConnections\":\"2\",\"MediumConnections\":\"0\",\"HighConnections\":\"0\",\"TotalConnections\":\"2\"},{\"FirmId\":\"4904\",\"FirmName\":\"Anidjar & Levine, PA\",\"InHouseCompanyId\":\"155203\",\"InHouseCompanyName\":\"AMAZON WEB SERVICES\",\"LowConnections\":\"1\",\"MediumConnections\":\"0\",\"HighConnections\":\"0\",\"TotalConnections\":\"1\"},{\"FirmId\":\"9752\",\"FirmName\":\"Ansa Assuncao LLP\",\"InHouseCompanyId\":\"155203\",\"InHouseCompanyName\":\"AMAZON WEB SERVICES\",\"LowConnections\":\"3\",\"MediumConnections\":\"3\",\"HighConnections\":\"0\",\"TotalConnections\":\"6\"},{\"FirmId\":\"2816\",\"FirmName\":\"Ansell Grimm & Aaron PC\",\"InHouseCompanyId\":\"155203\",\"InHouseCompanyName\":\"AMAZON WEB SERVICES\",\"LowConnections\":\"5\",\"MediumConnections\":\"0\",\"HighConnections\":\"0\",\"TotalConnections\":\"5\"},{\"FirmId\":\"2841\",\"FirmName\":\"Anselmi & Carvelli PC\",\"InHouseCompanyId\":\"155203\",\"InHouseCompanyName\":\"AMAZON WEB SERVICES\",\"LowConnections\":\"1\",\"MediumConnections\":\"0\",\"HighConnections\":\"0\",\"TotalConnections\":\"1\"},{\"FirmId\":\"158524\",\"FirmName\":\"Anselmi Mierzejewski Ruth & Sowle PC\",\"InHouseCompanyId\":\"155203\",\"InHouseCompanyName\":\"AMAZON WEB SERVICES\",\"LowConnections\":\"3\",\"MediumConnections\":\"1\",\"HighConnections\":\"0\",\"TotalConnections\":\"4\"}]}\n"
     ]
    }
   ],
   "source": [
    "import requests\n",
    "import json\n",
    "\n",
    "url = \"https://www.leopardsolutions.com/bisuite-api//firm-corporation-report/aggregate\"\n",
    "\n",
    "querystring = {\"sortField\":\"FirmName\",\"sortDirection\":\"ASC\",\"pageSize\":\"100\",\"page\":\"1\",\"corporationId\":\"155203\"}\n",
    "\n",
    "payload = \"\"\n",
    "headers = {\n",
    "    \"Accept\": \"*/*\",\n",
    "    \"Accept-Language\": \"en-US,en;q=0.9\",\n",
    "    \"Connection\": \"keep-alive\",\n",
    "    \"Cookie\": \"__wpdm_client=0110be777fccf3641f5162deb84a8d34; visid_incap_121106=D5K4DhlxTHS9bra1rS5UWPgw7GMAAAAAQUIPAAAAAACHnbHM0H6WaTLzmo2VWYUM; incap_ses_1356_121106=dPAWPxw/+iydZAckdnvREvgw7GMAAAAAgBchr8s1kfmNyNOn0K3yBw==; _wpfuuid=9d11923e-58e2-4835-8d4f-e61b8ca58ec8; _gcl_au=1.1.1831188573.1676423420; _ga=GA1.2.1332103392.1676423420; _gid=GA1.2.1533101831.1676423420; ln_or=eyI5ODg5NSI6ImQifQ%3D%3D; __RequestVerificationToken_L2FwcA2=EL04Owyv1sFGUUkkjNppD8LYm5XG1-dcG9i4NLGImE7KLA0hoDBuD42f7AI6YwvRxyfqYu9A9OYaxY3sKu9E-vDoEEo1; .AspNet.ApplicationCookie=chunks:2; .AspNet.ApplicationCookieC1=gpk2fpa1jH3rQSsjX5ld3DykkOpUl-D6LaITtZpJRqsXdw2mgc9I-rDyBbjgp2KuMg1Mzv3OTANDwp-Rp2wUYd2EKlv6hVRKLYsu9Ouycu5TD-Tg1AtG7ptmCdEApS04ImXR2Psuz7gN8Ka7xS9GP3Bl1PugD8CjS_si1TzDShtuMbzLpibLBIqGEmCwXNjOieqOLvoSAbyVyXTd6ifJBY1pNRD4mjSEH0Oz9nIJ0p_4BaXTviqfs3ZoVYzgUv1M4Oi4hhX1pvQPDuVzMZAqWGAHigUH2lYu_GH4R4aKKQgCtAuekF1R-05-MWproAtDa1Hdu4Qqiw0ifOQvok0F4LrNBzSY4wdFfpFOtggNd2_mHYz1mBoBSIxK0vv0HeNIm5Uaga_jfF4wAQHM7-PH43YS-nQqjFOe2DR008ewl62h1uxBTBN8SpCTK-_G-CcB3Xp1Z1HIl66HXWfzpCLmyLHDqejP1LJCIoZ1JZNCxiucOt6Gi10-xs5BHHbLlGbiAjgn-miE55m0JpVjzXXL2R-ss07oN7L6dIBp7JV6JxEyvJgMZ7czr3HI4yVbTeAZtI1sUh70DzXfWX_I9Ysc-0hBGfD0l8Fk-CDECnUbtIP5ll4aCw4iY49y1ZnI1uqWd-7jCgo9D0sP0PiLi0uJ0hOFAcrpe9CefRI1OmjfIDV1wEIzGvKYmCeifMjl7J0cZbaWxZFgrD9xDNbiN5PWdLFIyW4bTRnQbKnySaA8Lr4anhzepyxHHPP0gKc7VT6Tu1NbxWfkRHB9ZIqEfzCVzOqELNcaFqnwO1KdQO9D1PJdF6VFEC7dcr3dpKo2AM4tmq0N5pqS7KyKSzx2jn_z2adE0QrjRINcerALf2HaKnPSv5IjItJ-qZT_EYksoVKRPI_fmAuNYze5_TsJR-im7aGGypnP3EXI9qgaC3JIqWwP_KMqz7ML3Jje7Tbp7VwiecWlbVLF5ec6F5aEAGZhpI9aNx8fylf_rofZepEE1YyNlVOla-DjJHzVBsI8h6sR61_qq-3ZvTTe0bcZJ-nu3GsjA7txuEWIZ2Uf1-4-j3dnh6m4ZGWezJJGxl0vrha65p0Uz_GDE-d7wE31k8cHgV0ZqLntEcXfvRn85PWhLhCUDtLoKJzSSdza2s-Xa2fYTishUKVz4jQBYFvpCeNjYcLGhMcGIMVp_Qduwjc1croMWi65921cIJM_7sviV9j1Mh-cRYuP45DoY8FPMc0o0lP_g9TcQ7rGohaJlIzzyarEqTkwI813vpyaFfZUBNSxZWQIokVpjfFUFqsGqfM0szdAcnoiCUieHBDjzRYVdYTf5NhZn4xh1GvYf7LR9SmXgjh0upYtw1DjXHnpv073B3JLJq-2i8JosZEyhi1OTR4NJJ5TKsVy2QUNBS2VqUYlUXQsFmt2LrSLtDGZPqWmH0Vx15_qhE3AIi8hypJHevYPnHFR8FjWlF7pSe7_3SyYupiC5pzk2p1RW27-pnsugov0FR3OaUsFmFDkfpWh2by3_zGTwqDNIfoJR0urdoLqO7HL20L1LyZ6s0Tez3b2od3k8WyeKyce_Svd_rvZasJAyV80F-PMqoO7GXftRpAPkC1U1s2_yNTUppVKfmc66D22IQog89z9KWz9lz8XiOK7c-u6bKALEyJGPEc3rg867D9arHa_QBOWYolwcqp9S1BA4EftxltHJUBVcf25KyC-v-0f58TWOXZS3u6KG2aVdB_EQJLb41s3ums2INzRaeUbtSaGotrms1uZNUN1ni1aCt36kyAlSOfaCsi7z4H0MQETv9Yq6MqaWzxvUwDqDXeh3540dzQMa7Afp-W3XvFWuGKU_Tdp6AfhT8bm_7m0mR4pb_s2eUm_NBZ8YQbEgCS9nC7c_9r2sfbDY8MLZ4qAdcVQlE4zgsPSIA_JxdUbKKT0j6dp2Vx8oTnYs2jMntg7vSnWY8H7UBaW3LpcaD0CmFHo1I13stGDu_dCQrjjVNR37YsX42xq3S9PT3FiXl8o_ZbF-4TBb3zWXUise6RUCJqQs1mEo3M7MlKe1YXuhjFkowIOB0JSWJqGQvPOjUUgaf_Vl5FRnVs_Pogx2WdIZqECwqaXgd3Djzh_7KF-tVmMhwgXmYE4ZajDlDvDalu98uxF3pqaDg33iYEoTJpWlA7LGzn2OJbAVhrLi761zICDomTliWrF7pldbvl4vDq8Y-19-UUA6m59AgxYzR1HYZ2uGjIP992yLwTP75185gVZsrod64LNaGJfVOXkD1CPUVsaEhK4A-X5qLuqUQt9tK8OjPV4uOivNcCNqCfKXIV2wTPXAbiCD54xWvlLDznjVtKYSOsPABVtzoj2TT9wr1xcdUp9SgQvkzRsYeGZjI3eAAYgeGlO1BzFe2Js7OFYZZ19MmCnMxUYa_N8tDA09kajlciPCdjL1woKdlc0QTUXci5d4dpBfOuCwwGJO9IuYYw0H7XSWpfyRAe8hOabEbGm7c6yYRe-Sz6zeAORk7f6Wq8k_p2AtPzOxFlG9iNG-ldwVy3yOWb_XxG4yuCVKckfe_HqJVaiDgX5YCvL_K5qVEugYu4k_2rO-XCePxOmmZv3wuWjg9HySaJBsggMZd6M1CBCGg02H5ZmKO31JHHwD5eFEsh6s_qrLEb4Vr20cg0hH8HjB6Ms6ee70b0omi76idPUVeKF5CRakJkxnnId6R-MN8dHKN7inWROju79GM8ysHl5YUcP12zHPD-NSZm_nPLdOXRfJhNo3hchhoHXtTHRqHnKHbYYlYD-ehr3BASixo4w8WE2Nf_9DeMuLV4zuGCWW9ql-og-5rSkDXAQm0Ul_eZoJgDbTp9pPWQ-zf017tHujyef8ci0IxHEJ1SrvuGjxge7Z7wpxmBCr-XwNHWPttjzk1o20SPKxeipqtbC18PVrHn7NZ4mJ4jc8wXIaODrXNQnuopeA8EZ2_5XdknL4BY_CcrTy1PRD4bsr5xxGDRTaomEhl5fhVmdNE9BIw87Mzbb_ipZP3XhMJr92sMI3wwQ14beNGQ79zUQB1zrs8BnJfuBwCr6rvHujsP6p8OZQZzHGc6TQrNUtW9IXBqPRN6aUl_gFVu3qoFRhKsGAUDg_JEstQhBKbxhqeCa_ieYvpv68AczKh9GBhD34LHc6Brw_NKWhXCpnqf1Ft97jyadkuEyxjSB8qqkwahndaiLPE84FOuz-kemIoAJyUrCSrb0ZYicz70U_YoQskyU2hDBSGUkQuEE5LtmfAHIrxa7PayhFolq2rvc-rj6A5PyyuA5VCmu9tQc-8tCO2G0N2kNSAGRQY3RKG7PJnreLiwMe7LSn7He8_L_2kI5DgDL-RlPr8IUsfi-7j1EdszeSLmpxUTlCtHeHYutI7iy7ESBbdKjJQOXGslkiz34EPNSPrVhsNzxQmzB7auUJQtjFSI8nXL7D5Z6qOWAkis-l1gbyTVCrkNLwgM4C4i2RNqfvuP-lHybgTtpfhdI3EYnE36KRIJR0Unodnfb5tUcrQjtk1bucm5jYHApqo1KS6xFjX7XwjgV-WmP-6ELWb1QlmwINyFmJcZOmxD5mqqf25dr4bZUKyNBcJaK63FT8d--LQ7sr0suixrNJo5CKiR2ttC0aN17ss_0xkrQld_H1QgyY7d81s1ycsjTRXbknl_Hxt_xr74OwCxYtDsZf0tbgrup4UhQO8WbomQiJHWMM4XBiDVNogm4iF6beiyqhUr71IYsitXuJKtT2ngwd8rRlJI4Wj_wr4KfIcuouPNVo21LpcBiE582mb84RL9JgHORVUjfgG9fxXD3TbJewl8lSQbVppGXoVCN3v_g5sXB-TSGJcx4He75O5v9p4bsxbXWXLj85z6NrCWjExOI56o9VMT7Jc59zMJq2vMqpU9BfeXwLpTAzczlMVw-V_hIjXyU2LwK-t9FIOiK3gjgK_MTxFeE_txF5fulfo9oixPNzPi9ewyKMK0-U4JygTyKzAmoHqMXnfSmjNx3Rf8WSxoF; .AspNet.ApplicationCookieC2=3mRK-OvnsBi7SiinA0K-1o3A-4Gk74kUuRwCznu0q5ccte-wqqzkOJWNucjGnYs_ZwV9_HIb4EwKbNXhfmyaF7-8sBfYkGaWcycxXfQ0CFb2AZVTevu0yEBgnKOf2daP7gZUUAE-TG6qpclWguD4OkDNZjNUuU52eUyx-feH0Q; ASP.NET_SessionId=1g3cm2o2ok3g2nyamuajfdbh; liveagent_oref=https://www.leopardsolutions.com/app/login; liveagent_sid=7b29c021-3d26-4765-9786-fe89e17db625; liveagent_vc=2; liveagent_ptid=7b29c021-3d26-4765-9786-fe89e17db625; _gat_gtag_UA_2241945_4=1\",\n",
    "    \"If-None-Match\": 'W/\"55db-Dvwv5juD5nLsIl7jHABzeQMo3sY\"',\n",
    "    \"Referer\": \"https://www.leopardsolutions.com/bisuite/firmconnectionreport\",\n",
    "    \"Sec-Fetch-Dest\": \"empty\",\n",
    "    \"Sec-Fetch-Mode\": \"cors\",\n",
    "    \"Sec-Fetch-Site\": \"same-origin\",\n",
    "    \"User-Agent\": \"Mozilla/5.0 (Macintosh; Intel Mac OS X 10_15_7) AppleWebKit/537.36 (KHTML, like Gecko) Chrome/109.0.0.0 Safari/537.36\",\n",
    "    \"sec-ch-ua\": '\"Not_A Brand\";v=\"99\", \"Google Chrome\";v=\"109\", \"Chromium\";v=\"109\"',\n",
    "    \"sec-ch-ua-mobile\": \"?0\",\n",
    "    \"sec-ch-ua-platform\": '\"macOS\"'\n",
    "}\n",
    "\n",
    "response = requests.request(\"GET\", url, data=payload, headers=headers, params=querystring)\n",
    "\n",
    "print(response.text)"
   ]
  },
  {
   "cell_type": "code",
   "execution_count": 2,
   "id": "55154585-9995-4caf-a022-78c0adbb3876",
   "metadata": {},
   "outputs": [
    {
     "data": {
      "text/plain": [
       "dict"
      ]
     },
     "execution_count": 2,
     "metadata": {},
     "output_type": "execute_result"
    }
   ],
   "source": [
    "x = json.loads(response.text)\n",
    "type(x)"
   ]
  },
  {
   "cell_type": "code",
   "execution_count": 3,
   "id": "826e90fa-4daa-4fd6-9230-182e5d8ef239",
   "metadata": {},
   "outputs": [],
   "source": [
    "import pandas as pd"
   ]
  },
  {
   "cell_type": "code",
   "execution_count": 10,
   "id": "683fe1d8-75c8-40c2-932c-55502479f23f",
   "metadata": {},
   "outputs": [],
   "source": [
    "y = pd.DataFrame.from_dict(x['records'])"
   ]
  },
  {
   "cell_type": "code",
   "execution_count": 17,
   "id": "4030a520-478e-4862-bbe5-9ae3e4612674",
   "metadata": {},
   "outputs": [
    {
     "data": {
      "text/plain": [
       "dict_values(['9744', 'ALAW  James E Albertelli PA', '155203', 'AMAZON WEB SERVICES', '4', '0', '0', '4'])"
      ]
     },
     "execution_count": 17,
     "metadata": {},
     "output_type": "execute_result"
    }
   ],
   "source": [
    "x['records'][2].values()"
   ]
  },
  {
   "cell_type": "code",
   "execution_count": 11,
   "id": "ee92d2cd-31db-4f5d-b49e-51ce2ad6d8b9",
   "metadata": {},
   "outputs": [
    {
     "data": {
      "text/html": [
       "<div>\n",
       "<style scoped>\n",
       "    .dataframe tbody tr th:only-of-type {\n",
       "        vertical-align: middle;\n",
       "    }\n",
       "\n",
       "    .dataframe tbody tr th {\n",
       "        vertical-align: top;\n",
       "    }\n",
       "\n",
       "    .dataframe thead th {\n",
       "        text-align: right;\n",
       "    }\n",
       "</style>\n",
       "<table border=\"1\" class=\"dataframe\">\n",
       "  <thead>\n",
       "    <tr style=\"text-align: right;\">\n",
       "      <th></th>\n",
       "      <th>FirmId</th>\n",
       "      <th>FirmName</th>\n",
       "      <th>InHouseCompanyId</th>\n",
       "      <th>InHouseCompanyName</th>\n",
       "      <th>LowConnections</th>\n",
       "      <th>MediumConnections</th>\n",
       "      <th>HighConnections</th>\n",
       "      <th>TotalConnections</th>\n",
       "    </tr>\n",
       "  </thead>\n",
       "  <tbody>\n",
       "    <tr>\n",
       "      <th>0</th>\n",
       "      <td>3237</td>\n",
       "      <td>A Lavar Taylor Law</td>\n",
       "      <td>155203</td>\n",
       "      <td>AMAZON WEB SERVICES</td>\n",
       "      <td>1</td>\n",
       "      <td>0</td>\n",
       "      <td>0</td>\n",
       "      <td>1</td>\n",
       "    </tr>\n",
       "    <tr>\n",
       "      <th>1</th>\n",
       "      <td>10442</td>\n",
       "      <td>A Y Strauss</td>\n",
       "      <td>155203</td>\n",
       "      <td>AMAZON WEB SERVICES</td>\n",
       "      <td>11</td>\n",
       "      <td>5</td>\n",
       "      <td>2</td>\n",
       "      <td>18</td>\n",
       "    </tr>\n",
       "    <tr>\n",
       "      <th>2</th>\n",
       "      <td>9744</td>\n",
       "      <td>ALAW  James E Albertelli PA</td>\n",
       "      <td>155203</td>\n",
       "      <td>AMAZON WEB SERVICES</td>\n",
       "      <td>4</td>\n",
       "      <td>0</td>\n",
       "      <td>0</td>\n",
       "      <td>4</td>\n",
       "    </tr>\n",
       "    <tr>\n",
       "      <th>3</th>\n",
       "      <td>158619</td>\n",
       "      <td>AMPACC Law Group PLLC</td>\n",
       "      <td>155203</td>\n",
       "      <td>AMAZON WEB SERVICES</td>\n",
       "      <td>18</td>\n",
       "      <td>2</td>\n",
       "      <td>0</td>\n",
       "      <td>20</td>\n",
       "    </tr>\n",
       "    <tr>\n",
       "      <th>4</th>\n",
       "      <td>2512</td>\n",
       "      <td>AMS Trade LLP</td>\n",
       "      <td>155203</td>\n",
       "      <td>AMAZON WEB SERVICES</td>\n",
       "      <td>3</td>\n",
       "      <td>0</td>\n",
       "      <td>0</td>\n",
       "      <td>3</td>\n",
       "    </tr>\n",
       "    <tr>\n",
       "      <th>...</th>\n",
       "      <td>...</td>\n",
       "      <td>...</td>\n",
       "      <td>...</td>\n",
       "      <td>...</td>\n",
       "      <td>...</td>\n",
       "      <td>...</td>\n",
       "      <td>...</td>\n",
       "      <td>...</td>\n",
       "    </tr>\n",
       "    <tr>\n",
       "      <th>95</th>\n",
       "      <td>4904</td>\n",
       "      <td>Anidjar &amp; Levine, PA</td>\n",
       "      <td>155203</td>\n",
       "      <td>AMAZON WEB SERVICES</td>\n",
       "      <td>1</td>\n",
       "      <td>0</td>\n",
       "      <td>0</td>\n",
       "      <td>1</td>\n",
       "    </tr>\n",
       "    <tr>\n",
       "      <th>96</th>\n",
       "      <td>9752</td>\n",
       "      <td>Ansa Assuncao LLP</td>\n",
       "      <td>155203</td>\n",
       "      <td>AMAZON WEB SERVICES</td>\n",
       "      <td>3</td>\n",
       "      <td>3</td>\n",
       "      <td>0</td>\n",
       "      <td>6</td>\n",
       "    </tr>\n",
       "    <tr>\n",
       "      <th>97</th>\n",
       "      <td>2816</td>\n",
       "      <td>Ansell Grimm &amp; Aaron PC</td>\n",
       "      <td>155203</td>\n",
       "      <td>AMAZON WEB SERVICES</td>\n",
       "      <td>5</td>\n",
       "      <td>0</td>\n",
       "      <td>0</td>\n",
       "      <td>5</td>\n",
       "    </tr>\n",
       "    <tr>\n",
       "      <th>98</th>\n",
       "      <td>2841</td>\n",
       "      <td>Anselmi &amp; Carvelli PC</td>\n",
       "      <td>155203</td>\n",
       "      <td>AMAZON WEB SERVICES</td>\n",
       "      <td>1</td>\n",
       "      <td>0</td>\n",
       "      <td>0</td>\n",
       "      <td>1</td>\n",
       "    </tr>\n",
       "    <tr>\n",
       "      <th>99</th>\n",
       "      <td>158524</td>\n",
       "      <td>Anselmi Mierzejewski Ruth &amp; Sowle PC</td>\n",
       "      <td>155203</td>\n",
       "      <td>AMAZON WEB SERVICES</td>\n",
       "      <td>3</td>\n",
       "      <td>1</td>\n",
       "      <td>0</td>\n",
       "      <td>4</td>\n",
       "    </tr>\n",
       "  </tbody>\n",
       "</table>\n",
       "<p>100 rows × 8 columns</p>\n",
       "</div>"
      ],
      "text/plain": [
       "    FirmId                              FirmName InHouseCompanyId  \\\n",
       "0     3237                    A Lavar Taylor Law           155203   \n",
       "1    10442                           A Y Strauss           155203   \n",
       "2     9744           ALAW  James E Albertelli PA           155203   \n",
       "3   158619                 AMPACC Law Group PLLC           155203   \n",
       "4     2512                         AMS Trade LLP           155203   \n",
       "..     ...                                   ...              ...   \n",
       "95    4904                  Anidjar & Levine, PA           155203   \n",
       "96    9752                     Ansa Assuncao LLP           155203   \n",
       "97    2816               Ansell Grimm & Aaron PC           155203   \n",
       "98    2841                 Anselmi & Carvelli PC           155203   \n",
       "99  158524  Anselmi Mierzejewski Ruth & Sowle PC           155203   \n",
       "\n",
       "     InHouseCompanyName LowConnections MediumConnections HighConnections  \\\n",
       "0   AMAZON WEB SERVICES              1                 0               0   \n",
       "1   AMAZON WEB SERVICES             11                 5               2   \n",
       "2   AMAZON WEB SERVICES              4                 0               0   \n",
       "3   AMAZON WEB SERVICES             18                 2               0   \n",
       "4   AMAZON WEB SERVICES              3                 0               0   \n",
       "..                  ...            ...               ...             ...   \n",
       "95  AMAZON WEB SERVICES              1                 0               0   \n",
       "96  AMAZON WEB SERVICES              3                 3               0   \n",
       "97  AMAZON WEB SERVICES              5                 0               0   \n",
       "98  AMAZON WEB SERVICES              1                 0               0   \n",
       "99  AMAZON WEB SERVICES              3                 1               0   \n",
       "\n",
       "   TotalConnections  \n",
       "0                 1  \n",
       "1                18  \n",
       "2                 4  \n",
       "3                20  \n",
       "4                 3  \n",
       "..              ...  \n",
       "95                1  \n",
       "96                6  \n",
       "97                5  \n",
       "98                1  \n",
       "99                4  \n",
       "\n",
       "[100 rows x 8 columns]"
      ]
     },
     "execution_count": 11,
     "metadata": {},
     "output_type": "execute_result"
    }
   ],
   "source": [
    "y"
   ]
  },
  {
   "cell_type": "code",
   "execution_count": null,
   "id": "cf0a3d20-c95f-4e64-825d-a2d587d5c89a",
   "metadata": {},
   "outputs": [],
   "source": []
  }
 ],
 "metadata": {
  "kernelspec": {
   "display_name": "Python 3 (ipykernel)",
   "language": "python",
   "name": "python3"
  },
  "language_info": {
   "codemirror_mode": {
    "name": "ipython",
    "version": 3
   },
   "file_extension": ".py",
   "mimetype": "text/x-python",
   "name": "python",
   "nbconvert_exporter": "python",
   "pygments_lexer": "ipython3",
   "version": "3.9.12"
  }
 },
 "nbformat": 4,
 "nbformat_minor": 5
}
